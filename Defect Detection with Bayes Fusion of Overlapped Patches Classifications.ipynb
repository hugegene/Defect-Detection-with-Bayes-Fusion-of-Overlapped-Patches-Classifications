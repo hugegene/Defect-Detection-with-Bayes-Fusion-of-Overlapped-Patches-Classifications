{
  "nbformat": 4,
  "nbformat_minor": 0,
  "metadata": {
    "colab": {
      "name": "refactorIW2.ipynb",
      "version": "0.3.2",
      "provenance": [],
      "collapsed_sections": [
        "hVgIxPuV1GtP",
        "IgNTrEAt0uaQ",
        "6hPNJelGjRTG",
        "dv4S2zU1Ly0c",
        "ljxYBv0jDw5W"
      ]
    },
    "kernelspec": {
      "name": "python3",
      "display_name": "Python 3"
    },
    "accelerator": "GPU"
  },
  "cells": [
    {
      "metadata": {
        "id": "pz-MSM6qfSuk",
        "colab_type": "code",
        "colab": {}
      },
      "cell_type": "code",
      "source": [
        "!kill -9 -1"
      ],
      "execution_count": 0,
      "outputs": []
    },
    {
      "metadata": {
        "id": "XQoBW3UkepS_",
        "colab_type": "code",
        "outputId": "bfc547c2-22ac-468d-ce11-839e96e5b990",
        "colab": {
          "base_uri": "https://localhost:8080/",
          "height": 34
        }
      },
      "cell_type": "code",
      "source": [
        "%matplotlib inline\n",
        "%reload_ext autoreload\n",
        "%autoreload 2\n",
        "import numpy as np\n",
        "np.set_printoptions(threshold=np.nan)\n",
        "import pandas as pd\n",
        "pd.set_option('display.max_columns', 5000)\n",
        "from keras.models import Sequential\n",
        "from keras.layers import Dense\n",
        "from sklearn.model_selection import train_test_split\n",
        "from keras.wrappers.scikit_learn import KerasRegressor\n",
        "from sklearn.model_selection import cross_val_score\n",
        "from sklearn.model_selection import KFold\n",
        "from sklearn.preprocessing import StandardScaler\n",
        "from sklearn.pipeline import Pipeline\n",
        "from keras.layers import Conv2D, MaxPooling2D\n",
        "from sklearn import preprocessing\n",
        "import matplotlib.pyplot as plt\n",
        "import tensorflow as tf\n",
        "from matplotlib.image import imread\n",
        "from pathlib import Path\n",
        "import matplotlib.gridspec as gridspec\n",
        "import sys\n",
        "\n",
        "from keras import applications\n",
        "from keras.preprocessing.image import ImageDataGenerator\n",
        "from keras import optimizers\n",
        "from keras import regularizers\n",
        "from keras.models import Sequential, Model \n",
        "from keras.layers import Dropout, Flatten, Dense, GlobalAveragePooling2D, Activation\n",
        "from keras import backend as K \n",
        "from keras.callbacks import ModelCheckpoint, LearningRateScheduler, TensorBoard, EarlyStopping\n",
        "from keras.utils import to_categorical\n",
        "from keras.layers import BatchNormalization\n",
        "from sklearn.metrics import confusion_matrix\n",
        "\n",
        "import glob\n",
        "from math import log\n",
        "from bisect import bisect_left\n",
        "import pickle\n",
        "from google.colab import files\n",
        "import os\n",
        "\n",
        "import cv2\n",
        "from tqdm import tqdm\n",
        "from skimage.io import imread\n",
        "import matplotlib.pyplot as plt\n",
        "from skimage.segmentation import mark_boundaries\n",
        "from skimage.measure import label, regionprops\n",
        "from skimage.util.montage import montage2d as montage"
      ],
      "execution_count": 0,
      "outputs": [
        {
          "output_type": "stream",
          "text": [
            "Using TensorFlow backend.\n"
          ],
          "name": "stderr"
        }
      ]
    },
    {
      "metadata": {
        "id": "sD3PcG3SNYvS",
        "colab_type": "code",
        "outputId": "3e162bde-07df-4865-88c4-822ec6222b75",
        "colab": {
          "base_uri": "https://localhost:8080/",
          "height": 50
        }
      },
      "cell_type": "code",
      "source": [
        "!ls"
      ],
      "execution_count": 0,
      "outputs": [
        {
          "output_type": "stream",
          "text": [
            "CurlWget1708  Railsurfaceimages  type1RSDDdataset60_20\t Type1RSDD.zip\n",
            "GroundTruth   sample_data\t type1RSDDModel60_20.h5\n"
          ],
          "name": "stdout"
        }
      ]
    },
    {
      "metadata": {
        "id": "qbEdJb3l0-7V",
        "colab_type": "text"
      },
      "cell_type": "markdown",
      "source": [
        "# Data Preparation"
      ]
    },
    {
      "metadata": {
        "id": "OoEYxmr5jkgW",
        "colab_type": "code",
        "outputId": "41abacd7-67e7-4e32-cd1b-2ea89f2346cc",
        "colab": {
          "resources": {
            "http://localhost:8080/nbextensions/google.colab/files.js": {
              "data": "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",
              "ok": true,
              "headers": [
                [
                  "content-type",
                  "application/javascript"
                ]
              ],
              "status": 200,
              "status_text": ""
            }
          },
          "base_uri": "https://localhost:8080/",
          "height": 106
        }
      },
      "cell_type": "code",
      "source": [
        "from google.colab import files\n",
        "uploaded = files.upload()"
      ],
      "execution_count": 0,
      "outputs": [
        {
          "output_type": "display_data",
          "data": {
            "text/html": [
              "\n",
              "     <input type=\"file\" id=\"files-34f2895b-0e23-4896-abf1-de22e9107105\" name=\"files[]\" multiple disabled />\n",
              "     <output id=\"result-34f2895b-0e23-4896-abf1-de22e9107105\">\n",
              "      Upload widget is only available when the cell has been executed in the\n",
              "      current browser session. Please rerun this cell to enable.\n",
              "      </output>\n",
              "      <script src=\"/nbextensions/google.colab/files.js\"></script> "
            ],
            "text/plain": [
              "<IPython.core.display.HTML object>"
            ]
          },
          "metadata": {
            "tags": []
          }
        },
        {
          "output_type": "stream",
          "text": [
            "Saving W0001.zip to W0001.zip\n",
            "Saving W0002.zip to W0002.zip\n"
          ],
          "name": "stdout"
        }
      ]
    },
    {
      "metadata": {
        "id": "s4krzNMvaVoW",
        "colab_type": "code",
        "outputId": "62b76404-ffd6-4707-b022-eeb4fa7a9824",
        "colab": {
          "base_uri": "https://localhost:8080/",
          "height": 222
        }
      },
      "cell_type": "code",
      "source": [
        "!wget --header=\"Host: doc-00-b0-docs.googleusercontent.com\" --header=\"User-Agent: Mozilla/5.0 (Windows NT 10.0; Win64; x64) AppleWebKit/537.36 (KHTML, like Gecko) Chrome/70.0.3538.110 Safari/537.36\" --header=\"Accept: text/html,application/xhtml+xml,application/xml;q=0.9,image/webp,image/apng,*/*;q=0.8\" --header=\"Accept-Language: en-US,en;q=0.9,zh;q=0.8\" --header=\"Cookie: AUTH_34ik7lun1us6dv6q9qfeb6e7d6bvc8u0_nonce=t3ueuta47maae; _ga=GA1.2.960794485.1517510387; intercom-lou-th1oza37=1; NID=139=gsZKq2daCscqrMGFDIGKgTFR8dtbbgA9eoqoNa_a9rJUZKfv2gLNh40s43r1_T0niZlIS4BKm4gwDVhhyvkhSpZYqTY4byu7iVz7H-ujO8OpKTjpHrrljCa7K1Hr1mah\" --header=\"Connection: keep-alive\" \"https://doc-00-b0-docs.googleusercontent.com/docs/securesc/gee158gbk32t0tapgnnn7cl2j3b37p4l/cqc5s3mk9nnb9c4gkqkrk1p247ljtg7g/1544076000000/14209115304765239475/14209115304765239475/1ZXL2q_SEi9nIGsEYGFMnRPYMlyRhqceq?e=download&nonce=t3ueuta47maae&user=14209115304765239475&hash=igm8dtsomctu2nab09ncvra60j0jmh4s\" -O \"welds120_40\" -c"
      ],
      "execution_count": 0,
      "outputs": [
        {
          "output_type": "stream",
          "text": [
            "--2018-12-06 07:26:46--  https://doc-00-b0-docs.googleusercontent.com/docs/securesc/gee158gbk32t0tapgnnn7cl2j3b37p4l/cqc5s3mk9nnb9c4gkqkrk1p247ljtg7g/1544076000000/14209115304765239475/14209115304765239475/1ZXL2q_SEi9nIGsEYGFMnRPYMlyRhqceq?e=download&nonce=t3ueuta47maae&user=14209115304765239475&hash=igm8dtsomctu2nab09ncvra60j0jmh4s\n",
            "Resolving doc-00-b0-docs.googleusercontent.com (doc-00-b0-docs.googleusercontent.com)... 108.177.97.132, 2404:6800:4008:c00::84\n",
            "Connecting to doc-00-b0-docs.googleusercontent.com (doc-00-b0-docs.googleusercontent.com)|108.177.97.132|:443... connected.\n",
            "HTTP request sent, awaiting response... 200 OK\n",
            "Length: unspecified [application/octet-stream]\n",
            "Saving to: ‘welds120_40’\n",
            "\n",
            "welds120_40             [        <=>         ] 672.03M   127MB/s    in 5.9s    \n",
            "\n",
            "2018-12-06 07:26:52 (113 MB/s) - ‘welds120_40’ saved [704671331]\n",
            "\n"
          ],
          "name": "stdout"
        }
      ]
    },
    {
      "metadata": {
        "id": "qrmdS_89ad1V",
        "colab_type": "code",
        "outputId": "2986ffd4-6fff-47b0-965d-4f1b711935c0",
        "colab": {
          "base_uri": "https://localhost:8080/",
          "height": 222
        }
      },
      "cell_type": "code",
      "source": [
        "!wget --header=\"Host: doc-00-b0-docs.googleusercontent.com\" --header=\"User-Agent: Mozilla/5.0 (Windows NT 10.0; Win64; x64) AppleWebKit/537.36 (KHTML, like Gecko) Chrome/70.0.3538.110 Safari/537.36\" --header=\"Accept: text/html,application/xhtml+xml,application/xml;q=0.9,image/webp,image/apng,*/*;q=0.8\" --header=\"Accept-Language: en-US,en;q=0.9,zh;q=0.8\" --header=\"Cookie: AUTH_34ik7lun1us6dv6q9qfeb6e7d6bvc8u0=14209115304765239475|1544076000000|7eu2t1d7ph39n8edm1nhbe73o5m3b0p0; _ga=GA1.2.960794485.1517510387; intercom-lou-th1oza37=1; NID=139=gsZKq2daCscqrMGFDIGKgTFR8dtbbgA9eoqoNa_a9rJUZKfv2gLNh40s43r1_T0niZlIS4BKm4gwDVhhyvkhSpZYqTY4byu7iVz7H-ujO8OpKTjpHrrljCa7K1Hr1mah\" --header=\"Connection: keep-alive\" \"https://doc-00-b0-docs.googleusercontent.com/docs/securesc/gee158gbk32t0tapgnnn7cl2j3b37p4l/0kq70sk29bae1h7b8ravf3lde3660etn/1544076000000/14209115304765239475/14209115304765239475/1AhSPTKnJ-E7aQ4CPCJObmH1TxaeIGogC?e=download\" -O \"welds120_40.h5\" -c"
      ],
      "execution_count": 0,
      "outputs": [
        {
          "output_type": "stream",
          "text": [
            "--2018-12-06 07:27:17--  https://doc-00-b0-docs.googleusercontent.com/docs/securesc/gee158gbk32t0tapgnnn7cl2j3b37p4l/0kq70sk29bae1h7b8ravf3lde3660etn/1544076000000/14209115304765239475/14209115304765239475/1AhSPTKnJ-E7aQ4CPCJObmH1TxaeIGogC?e=download\n",
            "Resolving doc-00-b0-docs.googleusercontent.com (doc-00-b0-docs.googleusercontent.com)... 108.177.97.132, 2404:6800:4008:c00::84\n",
            "Connecting to doc-00-b0-docs.googleusercontent.com (doc-00-b0-docs.googleusercontent.com)|108.177.97.132|:443... connected.\n",
            "HTTP request sent, awaiting response... 200 OK\n",
            "Length: unspecified [application/octet-stream]\n",
            "Saving to: ‘welds120_40.h5’\n",
            "\n",
            "welds120_40.h5          [       <=>          ] 153.59M  55.3MB/s    in 2.8s    \n",
            "\n",
            "2018-12-06 07:27:21 (55.3 MB/s) - ‘welds120_40.h5’ saved [161051240]\n",
            "\n"
          ],
          "name": "stdout"
        }
      ]
    },
    {
      "metadata": {
        "id": "8Ii_oFL0j4HV",
        "colab_type": "code",
        "outputId": "ee88479d-5425-44c0-bdba-dbda8d764108",
        "colab": {
          "base_uri": "https://localhost:8080/",
          "height": 34
        }
      },
      "cell_type": "code",
      "source": [
        "!ls"
      ],
      "execution_count": 0,
      "outputs": [
        {
          "output_type": "stream",
          "text": [
            "CurlWget1855  sample_data  welds180_60\twelds180_60Model.h5\n"
          ],
          "name": "stdout"
        }
      ]
    },
    {
      "metadata": {
        "id": "etCNmsJ5jt13",
        "colab_type": "code",
        "colab": {}
      },
      "cell_type": "code",
      "source": [
        "!rm extractedImages"
      ],
      "execution_count": 0,
      "outputs": []
    },
    {
      "metadata": {
        "id": "m_mGT8jX58s8",
        "colab_type": "code",
        "colab": {}
      },
      "cell_type": "code",
      "source": [
        "!unzip NEU-DET.zip"
      ],
      "execution_count": 0,
      "outputs": []
    },
    {
      "metadata": {
        "id": "1aBEWNobhglN",
        "colab_type": "code",
        "colab": {}
      },
      "cell_type": "code",
      "source": [
        "!unzip Type1RSDD.zip"
      ],
      "execution_count": 0,
      "outputs": []
    },
    {
      "metadata": {
        "id": "51q4SGSTkEhP",
        "colab_type": "code",
        "outputId": "e1eebb82-d28b-4732-d020-7e010830568c",
        "colab": {
          "base_uri": "https://localhost:8080/",
          "height": 454
        }
      },
      "cell_type": "code",
      "source": [
        "!unzip W0002.zip\n",
        "!unzip W0001.zip"
      ],
      "execution_count": 0,
      "outputs": [
        {
          "output_type": "stream",
          "text": [
            "Archive:  W0002.zip\n",
            "  inflating: W0002/ground_truth.txt  \n",
            "  inflating: W0002/W0002_0001.png    \n",
            "  inflating: W0002/W0002_0002.png    \n",
            "  inflating: W0002/W0002_0003.png    \n",
            "  inflating: W0002/W0002_0004.png    \n",
            "  inflating: W0002/W0002_0005.png    \n",
            "  inflating: W0002/W0002_0006.png    \n",
            "  inflating: W0002/W0002_0007.png    \n",
            "  inflating: W0002/W0002_0008.png    \n",
            "  inflating: W0002/W0002_0009.png    \n",
            "  inflating: W0002/W0002_0010.png    \n",
            "  inflating: W0002/W0002_readme.txt  \n",
            "Archive:  W0001.zip\n",
            "  inflating: W0001/ground_truth.txt  \n",
            "  inflating: W0001/W0001_0001.png    \n",
            "  inflating: W0001/W0001_0002.png    \n",
            "  inflating: W0001/W0001_0003.png    \n",
            "  inflating: W0001/W0001_0004.png    \n",
            "  inflating: W0001/W0001_0005.png    \n",
            "  inflating: W0001/W0001_0006.png    \n",
            "  inflating: W0001/W0001_0007.png    \n",
            "  inflating: W0001/W0001_0008.png    \n",
            "  inflating: W0001/W0001_0009.png    \n",
            "  inflating: W0001/W0001_0010.png    \n",
            "  inflating: W0001/W0001_readme.txt  \n"
          ],
          "name": "stdout"
        }
      ]
    },
    {
      "metadata": {
        "id": "hVgIxPuV1GtP",
        "colab_type": "text"
      },
      "cell_type": "markdown",
      "source": [
        "# Annotate NEU"
      ]
    },
    {
      "metadata": {
        "colab_type": "code",
        "id": "WVeGO6W2VOyB",
        "colab": {}
      },
      "cell_type": "code",
      "source": [
        "from xml.etree import cElementTree as ET\n",
        "import glob\n",
        "annotations = []\n",
        "NEUimages = []\n",
        "NEUgroundtruths=[]\n",
        "# types = (\"NEU-DET/ANNOTATIONS/inclusion_*.xml\", \"NEU-DET/ANNOTATIONS/scratches_*.xml\")\n",
        "# for files in types:\n",
        "for file in sorted(glob.glob(\"NEU-DET/ANNOTATIONS/scratches_*.xml\")):\n",
        "    root = ET.parse(file)\n",
        "    a=root.findall('object')\n",
        "    imagename = root.find('filename').text\n",
        "    \n",
        "    image= cv2.imread(\"NEU-DET/IMAGES/\"+ imagename, 0)\n",
        "    NEUimages += [image]\n",
        "#     print(imagename)\n",
        "\n",
        "    background= np.zeros((image.shape[0], image.shape[1]))\n",
        "    groundtruth = pd.DataFrame(background)\n",
        "    \n",
        "    for obj in a:\n",
        "        diction = {}\n",
        "        diction['title'] = root.find('filename').text\n",
        "        diction['name'] = obj.find('name').text\n",
        "        bbox= np.array([int(obj.find('bndbox').find('xmin').text), int(obj.find('bndbox').find('ymin').text), int(obj.find('bndbox').find('xmax').text), int(obj.find('bndbox').find('ymax').text)])\n",
        "        diction['bbox'] = bbox\n",
        "        annotations.append(diction)\n",
        "        groundtruth.iloc[bbox[1]:bbox[3],bbox[0]:bbox[2]]=1\n",
        "    \n",
        "    NEUgroundtruths += [groundtruth.values]\n",
        "        \n",
        "# print(annotations) "
      ],
      "execution_count": 0,
      "outputs": []
    },
    {
      "metadata": {
        "id": "zgw-YbENP_xZ",
        "colab_type": "code",
        "colab": {}
      },
      "cell_type": "code",
      "source": [
        "plt.imshow(NEUimages[110], cmap='gray')\n",
        "len(NEUimages)\n",
        "NEUimages[110].shape"
      ],
      "execution_count": 0,
      "outputs": []
    },
    {
      "metadata": {
        "id": "j8m3O08UV_jf",
        "colab_type": "code",
        "colab": {}
      },
      "cell_type": "code",
      "source": [
        "NEUimages[110].dtype"
      ],
      "execution_count": 0,
      "outputs": []
    },
    {
      "metadata": {
        "id": "bjLPI5ToQOKZ",
        "colab_type": "code",
        "colab": {}
      },
      "cell_type": "code",
      "source": [
        "plt.imshow(NEUgroundtruths[110])"
      ],
      "execution_count": 0,
      "outputs": []
    },
    {
      "metadata": {
        "id": "chSt-t7b7BSf",
        "colab_type": "text"
      },
      "cell_type": "markdown",
      "source": [
        "# Split Patches"
      ]
    },
    {
      "metadata": {
        "id": "U7VjAFUq1KjV",
        "colab_type": "code",
        "colab": {}
      },
      "cell_type": "code",
      "source": [
        "trainImage = imread('Railsurfaceimages/rail_6.jpg')\n",
        "print(trainImage.shape)\n",
        "segmentImage = imread('GroundTruth/rail_6.jpg')\n",
        "# unique, counts = np.unique(segmentImage, return_counts=True)\n",
        "# unique, counts\n",
        "imageshape= segmentImage.shape\n",
        "# # image\n",
        "print(imageshape)"
      ],
      "execution_count": 0,
      "outputs": []
    },
    {
      "metadata": {
        "id": "mJ1IjeQMkGEL",
        "colab_type": "code",
        "colab": {}
      },
      "cell_type": "code",
      "source": [
        "trainImage = imread('W0001/W0001_0007.png')\n",
        "print(trainImage.shape)\n",
        "segmentImage = imread('W0002/W0002_0007.png')\n",
        "# unique, counts = np.unique(segmentImage, return_counts=True)\n",
        "# unique, counts\n",
        "# imageshape= segmentImage.shape\n",
        "# # image\n",
        "# print(imageshape)"
      ],
      "execution_count": 0,
      "outputs": []
    },
    {
      "metadata": {
        "id": "Pl-d8YyJ6Jty",
        "colab_type": "code",
        "colab": {}
      },
      "cell_type": "code",
      "source": [
        "def extractimages(trainImage, segmentImage, patchsize, stride): \n",
        "  patches = []\n",
        "  patchlabels = []\n",
        "  \n",
        "  input_trainimage = np.reshape(trainImage, [1, trainImage.shape[0], trainImage.shape[1], 1])\n",
        "  input_segmentimage = np.reshape(segmentImage, [1, segmentImage.shape[0], segmentImage.shape[1], 1])\n",
        "  \n",
        "  image_patches = tf.extract_image_patches(input_trainimage, [1, patchsize, patchsize, 1], [1, stride, stride, 1], [1, 1, 1, 1], 'VALID')\n",
        "  label_patches = tf.extract_image_patches(input_segmentimage, [1, patchsize, patchsize, 1], [1, stride, stride, 1], [1, 1, 1, 1], 'VALID')\n",
        "#   print(image_patches.shape)\n",
        "\n",
        "  sess = tf.Session()\n",
        "  tensorshape = sess.run(image_patches).shape\n",
        "  \n",
        "  for i in range(0, tensorshape[1]):\n",
        "    for j in range(0, tensorshape[2]):\n",
        "\n",
        "  ##Get single patch\n",
        "  \n",
        "      patch = sess.run(image_patches)[0][i][j]\n",
        "      label_patch = sess.run(label_patches)[0][i][j]\n",
        "  #     print(patch)\n",
        "\n",
        "  ##format patch size\n",
        "      patch = np.reshape(patch, (patchsize, patchsize))\n",
        "      label_patch = np.reshape(label_patch, (patchsize, patchsize))\n",
        "      stacked_patch = np.stack((patch,)*3, -1)\n",
        "  #     print(stacked_patch.shape)\n",
        "\n",
        "  ##Collate patches\n",
        "      patches.append(stacked_patch)\n",
        "\n",
        "  ##Collate patch class\n",
        "      unique, counts = np.unique(label_patch, return_counts=True)\n",
        "      if unique.shape[0] > 1:\n",
        "  #       print(counts.shape)\n",
        "        if counts[1] >= 0*label_patch.shape[0]*label_patch.shape[1]:\n",
        "          patchlabels.append(1)\n",
        "        else:\n",
        "          patchlabels.append(0)\n",
        "      else:\n",
        "        patchlabels.append(0)\n",
        "  \n",
        "  image_patches = sess.run(image_patches)\n",
        "#   print(image_patches.shape)\n",
        "  label_patches = sess.run(label_patches)\n",
        "  sess.close()\n",
        "  return patches, patchlabels, image_patches, label_patches"
      ],
      "execution_count": 0,
      "outputs": []
    },
    {
      "metadata": {
        "id": "BoCdVjIaQ6RV",
        "colab_type": "code",
        "outputId": "20880228-3864-46e1-b802-26b7748d9122",
        "colab": {
          "base_uri": "https://localhost:8080/",
          "height": 54
        }
      },
      "cell_type": "code",
      "source": [
        "a  = list(range(1, 16))\n",
        "a += list(range(17,68))\n",
        "len(a)\n",
        "print(a)"
      ],
      "execution_count": 0,
      "outputs": [
        {
          "output_type": "stream",
          "text": [
            "[1, 2, 3, 4, 5, 6, 7, 8, 9, 10, 11, 12, 13, 14, 15, 17, 18, 19, 20, 21, 22, 23, 24, 25, 26, 27, 28, 29, 30, 31, 32, 33, 34, 35, 36, 37, 38, 39, 40, 41, 42, 43, 44, 45, 46, 47, 48, 49, 50, 51, 52, 53, 54, 55, 56, 57, 58, 59, 60, 61, 62, 63, 64, 65, 66, 67]\n"
          ],
          "name": "stdout"
        }
      ]
    },
    {
      "metadata": {
        "id": "lKi7r5xtdRqZ",
        "colab_type": "code",
        "outputId": "380ee14a-1d59-414d-9a79-80fe9a8e2dc7",
        "colab": {
          "base_uri": "https://localhost:8080/",
          "height": 67
        }
      },
      "cell_type": "code",
      "source": [
        "import random\n",
        "np.random.seed(1)\n",
        "indices = list(range(0, 66))\n",
        "\n",
        "trainindices = np.random.choice(indices, int(len(indices)*0.7), replace = False)\n",
        "print(trainindices)\n",
        "\n",
        "testindices = np.delete(indices, trainindices, 0)\n",
        "print(testindices)"
      ],
      "execution_count": 0,
      "outputs": [
        {
          "output_type": "stream",
          "text": [
            "[46 57 47  2 38 55 21 26 53 41 48 40 43 33 27 60 52  3 36 24 10 59 19 34\n",
            " 63 17 58 56 51 35 44 31 54 62 13 22 32 30 39 23  4 14 29 28 42 61]\n",
            "[ 0  1  5  6  7  8  9 11 12 15 16 18 20 25 37 45 49 50 64 65]\n"
          ],
          "name": "stdout"
        }
      ]
    },
    {
      "metadata": {
        "id": "4onQugnVdEy9",
        "colab_type": "code",
        "outputId": "bd72a41f-db44-4ccd-de3d-b7c981b80aa6",
        "colab": {
          "base_uri": "https://localhost:8080/",
          "height": 50
        }
      },
      "cell_type": "code",
      "source": [
        "np.array(a)[testindices]"
      ],
      "execution_count": 0,
      "outputs": [
        {
          "output_type": "execute_result",
          "data": {
            "text/plain": [
              "array([ 1,  2,  6,  7,  8,  9, 10, 12, 13, 17, 18, 20, 22, 27, 39, 47, 51,\n",
              "       52, 66, 67])"
            ]
          },
          "metadata": {
            "tags": []
          },
          "execution_count": 17
        }
      ]
    },
    {
      "metadata": {
        "id": "ikU6q_K3Tujr",
        "colab_type": "code",
        "outputId": "27c98e3b-869f-40b7-e88a-b9799e51bc7d",
        "colab": {
          "base_uri": "https://localhost:8080/",
          "height": 67
        }
      },
      "cell_type": "code",
      "source": [
        "np.array(a)[trainindices]"
      ],
      "execution_count": 0,
      "outputs": [
        {
          "output_type": "execute_result",
          "data": {
            "text/plain": [
              "array([48, 59, 49,  3, 40, 57, 23, 28, 55, 43, 50, 42, 45, 35, 29, 62, 54,\n",
              "        4, 38, 26, 11, 61, 21, 36, 65, 19, 60, 58, 53, 37, 46, 33, 56, 64,\n",
              "       14, 24, 34, 32, 41, 25,  5, 15, 31, 30, 44, 63])"
            ]
          },
          "metadata": {
            "tags": []
          },
          "execution_count": 18
        }
      ]
    },
    {
      "metadata": {
        "id": "OjhY5XJB2wN6",
        "colab_type": "code",
        "colab": {}
      },
      "cell_type": "code",
      "source": [
        "PATCH_SIZE = 120\n",
        "STRIDE_SIZE = 40"
      ],
      "execution_count": 0,
      "outputs": []
    },
    {
      "metadata": {
        "id": "Aph6OzYBkZb1",
        "colab_type": "code",
        "colab": {}
      },
      "cell_type": "code",
      "source": [
        "PATCH_SIZE = 180\n",
        "STRIDE_SIZE = 60"
      ],
      "execution_count": 0,
      "outputs": []
    },
    {
      "metadata": {
        "id": "6PBYN05ou4p9",
        "colab_type": "code",
        "colab": {}
      },
      "cell_type": "code",
      "source": [
        "PATCH_SIZE = 60\n",
        "STRIDE_SIZE = 20"
      ],
      "execution_count": 0,
      "outputs": []
    },
    {
      "metadata": {
        "id": "Q0AL2SmqWUbM",
        "colab_type": "code",
        "colab": {}
      },
      "cell_type": "code",
      "source": [
        "PATCH_SIZE = 48\n",
        "STRIDE_SIZE = 16"
      ],
      "execution_count": 0,
      "outputs": []
    },
    {
      "metadata": {
        "id": "P8ndHfKv4jXY",
        "colab_type": "code",
        "colab": {}
      },
      "cell_type": "code",
      "source": [
        "trainingImages = []\n",
        "trainingLabels = []\n",
        "\n",
        "printTrainImages = []\n",
        "printTrainLabels = []\n",
        "\n",
        "# for i in np.array(a)[trainindices] :\n",
        "for i in [\"06\",\"07\", \"08\", \"09\", \"10\"] :\n",
        "# for i in range(0,200):\n",
        "  print(i)\n",
        "#   trainImagei = imread('Railsurfaceimages/rail_' + str(i) + '.jpg')\n",
        "#   segmentImagei = imread('GroundTruth/rail_' + str(i) + '.jpg')\n",
        "\n",
        "  trainImagei = imread('W0001/W0001_00' + i + '.png')\n",
        "  segmentImagei = imread('W0002/W0002_00' + i + '.png')\n",
        "  \n",
        "#   trainImagei = NEUimages[i]\n",
        "#   segmentImagei = NEUgroundtruths[i]\n",
        "\n",
        "  pat, patclass, image_patches, label_patches = extractimages(trainImagei, segmentImagei, PATCH_SIZE, STRIDE_SIZE)\n",
        "\n",
        "  trainingImages = trainingImages + pat\n",
        "\n",
        "  trainingLabels = trainingLabels + patclass\n",
        "\n",
        "  printTrainImages = printTrainImages + [np.asarray(image_patches)]\n",
        "\n",
        "  printTrainLabels = printTrainLabels + [label_patches] \n",
        "\n",
        "\n",
        "trainingImages= np.asarray(trainingImages)\n",
        "print(\"trainingImages: \" + str(trainingImages.shape))\n",
        "print(\"trainingImages: \" + str(printTrainImages[0].shape))\n",
        "\n",
        "trainingLabels = np.asarray(trainingLabels)\n",
        "print(\"trainingLabels: \" + str(trainingLabels.shape))\n",
        "print(\"trainingImages: \" + str(printTrainLabels[0].shape))"
      ],
      "execution_count": 0,
      "outputs": []
    },
    {
      "metadata": {
        "id": "cm7zpEI0iXpz",
        "colab_type": "code",
        "colab": {}
      },
      "cell_type": "code",
      "source": [
        "trainingImages = []\n",
        "trainingLabels = []\n",
        "\n",
        "printTrainImages = []\n",
        "printTrainLabels = []\n",
        "\n",
        "PATCH_SIZE = 180\n",
        "STRIDE_SIZE = 60\n",
        "# PATCH_SIZE = [1, PATCH_SIZE_ROWS, PATCH_SIZE_COLS, 1]\n",
        "# STRIDE_SIZE = [1, PATCH_SIZE, PATCH_SIZE, 1]\n",
        "a= [\"06\",\"07\",\"08\",\"09\",\"10\"]\n",
        "# a= [\"7\"]\n",
        "\n",
        "for i in a:\n",
        "  print(i)\n",
        "  trainImagei = imread('W0001/W0001_00' + i + '.png')\n",
        "  segmentImagei = imread('W0002/W0002_00' + i + '.png')\n",
        "  pat, patclass, image_patches, label_patches = extractimages(trainImagei, segmentImagei, PATCH_SIZE, STRIDE_SIZE)\n",
        "  \n",
        "  trainingImages = trainingImages + pat\n",
        "\n",
        "  trainingLabels = trainingLabels + patclass\n",
        "\n",
        "  printTrainImages = printTrainImages + [np.asarray(image_patches)]\n",
        "\n",
        "  printTrainLabels = printTrainLabels + [label_patches] \n",
        "\n",
        "\n",
        "trainingImages= np.asarray(trainingImages)\n",
        "print(\"trainingImages: \" + str(trainingImages.shape))\n",
        "print(\"trainingImages: \" + str(printTrainImages[0].shape))\n",
        "\n",
        "trainingLabels = np.asarray(trainingLabels)\n",
        "print(\"trainingLabels: \" + str(trainingLabels.shape))\n",
        "print(\"trainingImages: \" + str(printTrainLabels[0].shape))"
      ],
      "execution_count": 0,
      "outputs": []
    },
    {
      "metadata": {
        "id": "gfyDII4LFa63",
        "colab_type": "code",
        "colab": {}
      },
      "cell_type": "code",
      "source": [
        "filename1 = 'type1RSDDdataset60_20'\n",
        "outfile = open(filename1,'wb')\n",
        "pickle.dump(trainingImages ,outfile)\n",
        "pickle.dump(trainingLabels ,outfile)\n",
        "pickle.dump(printTrainImages ,outfile)\n",
        "pickle.dump(printTrainLabels ,outfile)\n",
        "outfile.close()"
      ],
      "execution_count": 0,
      "outputs": []
    },
    {
      "metadata": {
        "id": "FF8rwpTlMqO9",
        "colab_type": "code",
        "colab": {}
      },
      "cell_type": "code",
      "source": [
        "files.download('extractedImages')"
      ],
      "execution_count": 0,
      "outputs": []
    },
    {
      "metadata": {
        "id": "aESggoccnvu9",
        "colab_type": "code",
        "outputId": "23178fd6-f92c-4c75-c196-6afed39be935",
        "colab": {
          "base_uri": "https://localhost:8080/",
          "height": 34
        }
      },
      "cell_type": "code",
      "source": [
        "!ls"
      ],
      "execution_count": 0,
      "outputs": [
        {
          "output_type": "stream",
          "text": [
            "CurlWget1855  sample_data  welds180_60\twelds180_60Model.h5\n"
          ],
          "name": "stdout"
        }
      ]
    },
    {
      "metadata": {
        "id": "cJLYHnP5iVDN",
        "colab_type": "code",
        "colab": {}
      },
      "cell_type": "code",
      "source": [
        "!pip install -U -q PyDrive"
      ],
      "execution_count": 0,
      "outputs": []
    },
    {
      "metadata": {
        "id": "0Azid3uuiTaC",
        "colab_type": "code",
        "colab": {}
      },
      "cell_type": "code",
      "source": [
        "# Install the PyDrive wrapper & import libraries.\n",
        "# This only needs to be done once in a notebook.\n",
        "from pydrive.auth import GoogleAuth\n",
        "from pydrive.drive import GoogleDrive\n",
        "from google.colab import auth\n",
        "from oauth2client.client import GoogleCredentials\n",
        "\n",
        "# Authenticate and create the PyDrive client.\n",
        "# This only needs to be done once in a notebook.\n",
        "auth.authenticate_user()\n",
        "gauth = GoogleAuth()\n",
        "gauth.credentials = GoogleCredentials.get_application_default()\n",
        "drive = GoogleDrive(gauth)\n",
        "\n",
        "# Create & upload a file.\n",
        "uploaded = drive.CreateFile({'model': 'NEUscratches48_16Model.h5'})\n",
        "uploaded.SetContentFile('NEUscratches48_16Model.h5')\n",
        "uploaded.Upload()\n",
        "print('Uploaded file with ID {}'.format(uploaded.get('id')))"
      ],
      "execution_count": 0,
      "outputs": []
    },
    {
      "metadata": {
        "id": "-wyIta_JGTvI",
        "colab_type": "code",
        "colab": {}
      },
      "cell_type": "code",
      "source": [
        "infile = open(\"welds120_40\",'rb')\n",
        "trainingImages = pickle.load(infile)\n",
        "trainingLabels = pickle.load(infile)\n",
        "printTrainImages = pickle.load(infile)\n",
        "printTrainLabels = pickle.load(infile)\n",
        "infile.close()"
      ],
      "execution_count": 0,
      "outputs": []
    },
    {
      "metadata": {
        "id": "OtiOFDgXjX2A",
        "colab_type": "code",
        "colab": {}
      },
      "cell_type": "code",
      "source": [
        "np.array(printTrainImages[0]).shape"
      ],
      "execution_count": 0,
      "outputs": []
    },
    {
      "metadata": {
        "id": "srRsoLCGu_YM",
        "colab_type": "code",
        "colab": {}
      },
      "cell_type": "code",
      "source": [
        "infile = open(\"type1RSDDdataset60_20\",'rb')\n",
        "trainingImages = pickle.load(infile)\n",
        "trainingLabels = pickle.load(infile)\n",
        "printTrainImages = pickle.load(infile)\n",
        "printTrainLabels = pickle.load(infile)\n",
        "infile.close()"
      ],
      "execution_count": 0,
      "outputs": []
    },
    {
      "metadata": {
        "id": "Cy44whdUV9Um",
        "colab_type": "code",
        "colab": {}
      },
      "cell_type": "code",
      "source": [
        "infile = open(\"NEUscratches48_16\",'rb')\n",
        "trainingImages = pickle.load(infile)\n",
        "trainingLabels = pickle.load(infile)\n",
        "printTrainImages = pickle.load(infile)\n",
        "printTrainLabels = pickle.load(infile)\n",
        "infile.close()"
      ],
      "execution_count": 0,
      "outputs": []
    },
    {
      "metadata": {
        "id": "D79kfBskjUEX",
        "colab_type": "code",
        "colab": {}
      },
      "cell_type": "code",
      "source": [
        "!rm extractedImages"
      ],
      "execution_count": 0,
      "outputs": []
    },
    {
      "metadata": {
        "id": "WTGdrWRIjQZQ",
        "colab_type": "code",
        "colab": {}
      },
      "cell_type": "code",
      "source": [
        "!ls"
      ],
      "execution_count": 0,
      "outputs": []
    },
    {
      "metadata": {
        "id": "IgNTrEAt0uaQ",
        "colab_type": "text"
      },
      "cell_type": "markdown",
      "source": [
        "# Visualise Image Patches"
      ]
    },
    {
      "metadata": {
        "id": "Y_WRr6TdcP06",
        "colab_type": "code",
        "colab": {}
      },
      "cell_type": "code",
      "source": [
        "printTrainImages[0].shape"
      ],
      "execution_count": 0,
      "outputs": []
    },
    {
      "metadata": {
        "id": "1FuIeTGOhUNq",
        "colab_type": "code",
        "colab": {}
      },
      "cell_type": "code",
      "source": [
        "printTrainLabels[0].shape"
      ],
      "execution_count": 0,
      "outputs": []
    },
    {
      "metadata": {
        "id": "diemAKU5dmpf",
        "colab_type": "code",
        "colab": {}
      },
      "cell_type": "code",
      "source": [
        "def plot_image_patches2(printTrainImages,  trainingLabels):\n",
        "  \n",
        "  trainingLabels = np.reshape(trainingLabels, [printTrainImages.shape[1], printTrainImages.shape[2]])\n",
        "  \n",
        "  nr, nc = printTrainImages.shape[1], printTrainImages.shape[2]\n",
        "  print('width: {}; height: {}'.format(nr, nc), file=sys.stderr)\n",
        "  \n",
        "  # figsize: width and height in inches. can be changed to make\n",
        "  #+output figure fit well. The default often works well.\n",
        "  #fig = plt.figure(figsize=(nr, nc)) \n",
        "  \n",
        "  fig = plt.figure(figsize=(30,30))\n",
        "  gs = gridspec.GridSpec(nr, nc)\n",
        "  gs.update(wspace= 0.1, hspace= 0.1)\n",
        "  \n",
        "  trainingNo = 0\n",
        "  for i in range(nr):\n",
        "    print(i)\n",
        "    for j in range(nc):\n",
        "      ax = plt.subplot(gs[i*nc+j])\n",
        "      plt.axis('off')\n",
        "      ax.set_xticklabels([])\n",
        "      ax.set_yticklabels([])\n",
        "      ax.set_aspect('auto')\n",
        "      \n",
        "      image = printTrainImages[0][i][j].reshape(PATCH_SIZE, PATCH_SIZE)\n",
        "      #patch = tf.image.random_brightness(patch, 0.3)\n",
        "      #patch = tf.image.random_contrast(patch, 0.1, 0.9)\n",
        "      #patch = tf.image.random_saturation(patch, 0.1, 0.9)\n",
        "      #patch = tf.image.random_hue(patch, 0.4)\n",
        "      #patch = tf.image.random_flip_up_down(patch, 0.4)\n",
        "      plt.imshow(image)\n",
        "      text= ':%d, :%d'%(trainingLabels[i][j], trainingNo)\n",
        "      ax.text(0, 0, text )\n",
        "      trainingNo = trainingNo + 1\n",
        "  \n",
        "#       print('processed {},{} patch, {}.'.format(i,j, i*nc+j),file=sys.stderr)\n",
        "  \n",
        "#   sess.close()\n",
        "#   return fig"
      ],
      "execution_count": 0,
      "outputs": []
    },
    {
      "metadata": {
        "id": "2CUrIdo3dF64",
        "colab_type": "code",
        "colab": {}
      },
      "cell_type": "code",
      "source": [
        "plot_image_patches2(printTrainLabels[0], trainingLabels[0:93])"
      ],
      "execution_count": 0,
      "outputs": []
    },
    {
      "metadata": {
        "id": "lJhRZdkXmvgY",
        "colab_type": "code",
        "colab": {}
      },
      "cell_type": "code",
      "source": [
        "plot_image_patches2(printTrainImages[0], trainingLabels[0:93])"
      ],
      "execution_count": 0,
      "outputs": []
    },
    {
      "metadata": {
        "id": "nPs0GlNVjrdr",
        "colab_type": "code",
        "colab": {}
      },
      "cell_type": "code",
      "source": [
        "plt.savefig( \"test.png\")"
      ],
      "execution_count": 0,
      "outputs": []
    },
    {
      "metadata": {
        "id": "K6VrIBJu4GRH",
        "colab_type": "code",
        "colab": {}
      },
      "cell_type": "code",
      "source": [
        "plt.imshow(trainingImages[125])"
      ],
      "execution_count": 0,
      "outputs": []
    },
    {
      "metadata": {
        "id": "AugcGDqrfp4n",
        "colab_type": "code",
        "colab": {}
      },
      "cell_type": "code",
      "source": [
        "print(trainImage.shape)\n",
        "fig, ax = plt.subplots(figsize=(25, 10))\n",
        "ax.imshow(trainImage, interpolation='nearest')\n",
        "plt.tight_layout()\n"
      ],
      "execution_count": 0,
      "outputs": []
    },
    {
      "metadata": {
        "id": "6hPNJelGjRTG",
        "colab_type": "text"
      },
      "cell_type": "markdown",
      "source": [
        "# Other Models"
      ]
    },
    {
      "metadata": {
        "id": "cZxOMIGddDF_",
        "colab_type": "code",
        "colab": {}
      },
      "cell_type": "code",
      "source": [
        "# modelres = applications.ResNet50(weights='imagenet', input_shape = (224, 224, 3))\n",
        "# # modelres.summary()"
      ],
      "execution_count": 0,
      "outputs": []
    },
    {
      "metadata": {
        "id": "LhikYWvZdrdi",
        "colab_type": "code",
        "colab": {}
      },
      "cell_type": "code",
      "source": [
        "# # modelL.summary()\n",
        "\n",
        "# # for layer in modelres.layers:\n",
        "# #     layer.trainable = False\n",
        "\n",
        "# #Adding custom Layers \n",
        "# x = modelres.output\n",
        "# # x = Dense(1024, activation=\"relu\")(x)\n",
        "# # x = Dropout(0.5)(x)\n",
        "# x = Dense(100, activation=\"relu\")(x)\n",
        "# predictions = Dense(1, activation=\"sigmoid\")(x)\n",
        "\n",
        "# # creating the final model \n",
        "# modelres_final = Model(input = model.input, output = predictions)\n",
        "\n",
        "# # compile the model \n",
        "# modelres_final.compile(loss= \"binary_crossentropy\", optimizer = optimizers.SGD(lr=0.00001, momentum=0.9), metrics=[\"accuracy\"])\n",
        "# # model_final.summary()"
      ],
      "execution_count": 0,
      "outputs": []
    },
    {
      "metadata": {
        "id": "8MMo6ZnZBeP-",
        "colab_type": "code",
        "colab": {}
      },
      "cell_type": "code",
      "source": [
        "# model = Sequential()\n",
        "# model.add(Conv2D(32, (3, 3), input_shape=(201, 201, 3)))\n",
        "# model.add(Activation('relu'))\n",
        "# model.add(MaxPooling2D(pool_size=(2, 2),  dim_ordering=\"tf\"))\n",
        "\n",
        "# model.add(Conv2D(32, (3, 3)))\n",
        "# model.add(Activation('relu'))\n",
        "# model.add(MaxPooling2D(pool_size=(2, 2)))\n",
        "\n",
        "# model.add(Conv2D(64, (3, 3)))\n",
        "# model.add(Activation('relu'))\n",
        "# model.add(MaxPooling2D(pool_size=(2, 2)))\n",
        "\n",
        "# model.add(Flatten())  # this converts our 3D feature maps to 1D feature vectors\n",
        "# model.add(Dense(64))\n",
        "# model.add(Activation('relu'))\n",
        "# model.add(Dropout(0.5))\n",
        "# model.add(Dense(1))\n",
        "# model.add(Activation('sigmoid'))\n",
        "\n",
        "# model.compile(loss='binary_crossentropy',\n",
        "#               optimizer= optimizers.SGD(lr=0.00000001),\n",
        "#               metrics=['accuracy'])"
      ],
      "execution_count": 0,
      "outputs": []
    },
    {
      "metadata": {
        "id": "dv4S2zU1Ly0c",
        "colab_type": "text"
      },
      "cell_type": "markdown",
      "source": [
        "# Focal Loss Function"
      ]
    },
    {
      "metadata": {
        "id": "dmYA9i5VL2yq",
        "colab_type": "code",
        "colab": {}
      },
      "cell_type": "code",
      "source": [
        "def focal_loss(gamma=2., alpha=.25):\n",
        "  def focal_loss_fixed(y_true, y_pred):\n",
        "    pt_1 = tf.where(tf.equal(y_true, 1), y_pred, tf.ones_like(y_pred))\n",
        "    pt_0 = tf.where(tf.equal(y_true, 0), y_pred, tf.zeros_like(y_pred))\n",
        "    return -K.sum(alpha * K.pow(1. - pt_1, gamma) * K.log(pt_1))-K.sum((1-alpha) * K.pow( pt_0, gamma) * K.log(1. - pt_0))\n",
        "  return focal_loss_fixed"
      ],
      "execution_count": 0,
      "outputs": []
    },
    {
      "metadata": {
        "id": "ljxYBv0jDw5W",
        "colab_type": "text"
      },
      "cell_type": "markdown",
      "source": [
        "# Learning Rate Class"
      ]
    },
    {
      "metadata": {
        "id": "dQr4o1J9D0dN",
        "colab_type": "code",
        "colab": {}
      },
      "cell_type": "code",
      "source": [
        "from keras.callbacks import Callback\n",
        "class LRFinder(Callback):\n",
        "    \n",
        "    '''\n",
        "    A simple callback for finding the optimal learning rate range for your model + dataset. \n",
        "    \n",
        "    # Usage\n",
        "        ```python\n",
        "            lr_finder = LRFinder(min_lr=1e-5, \n",
        "                                 max_lr=1e-2, \n",
        "                                 steps_per_epoch=np.ceil(epoch_size/batch_size), \n",
        "                                 epochs=3)\n",
        "            model.fit(X_train, Y_train, callbacks=[lr_finder])\n",
        "            \n",
        "            lr_finder.plot_loss()\n",
        "        ```\n",
        "    \n",
        "    # Arguments\n",
        "        min_lr: The lower bound of the learning rate range for the experiment.\n",
        "        max_lr: The upper bound of the learning rate range for the experiment.\n",
        "        steps_per_epoch: Number of mini-batches in the dataset. Calculated as `np.ceil(epoch_size/batch_size)`. \n",
        "        epochs: Number of epochs to run experiment. Usually between 2 and 4 epochs is sufficient. \n",
        "        \n",
        "    # References\n",
        "        Blog post: jeremyjordan.me/nn-learning-rate\n",
        "        Original paper: https://arxiv.org/abs/1506.01186\n",
        "    '''\n",
        "    \n",
        "    \n",
        "    def __init__(self, min_lr=1e-5, max_lr=1e-2, steps_per_epoch=None, epochs=None):\n",
        "        super().__init__()\n",
        "        \n",
        "        self.min_lr = min_lr\n",
        "        self.max_lr = max_lr\n",
        "        self.total_iterations = steps_per_epoch * epochs\n",
        "        self.iteration = 0\n",
        "        self.history = {}\n",
        "        \n",
        "    def clr(self):\n",
        "        '''Calculate the learning rate.'''\n",
        "        x = self.iteration / self.total_iterations \n",
        "        return self.min_lr + (self.max_lr-self.min_lr) * x\n",
        "        \n",
        "    def on_train_begin(self, logs=None):\n",
        "        '''Initialize the learning rate to the minimum value at the start of training.'''\n",
        "        logs = logs or {}\n",
        "        K.set_value(self.model.optimizer.lr, self.min_lr)\n",
        "        \n",
        "    def on_batch_end(self, epoch, logs=None):\n",
        "        '''Record previous batch statistics and update the learning rate.'''\n",
        "        logs = logs or {}\n",
        "        self.iteration += 1\n",
        "\n",
        "        self.history.setdefault('lr', []).append(K.get_value(self.model.optimizer.lr))\n",
        "        self.history.setdefault('iterations', []).append(self.iteration)\n",
        "\n",
        "        for k, v in logs.items():\n",
        "            self.history.setdefault(k, []).append(v)\n",
        "            \n",
        "        K.set_value(self.model.optimizer.lr, self.clr())\n",
        " \n",
        "    def plot_lr(self):\n",
        "        '''Helper function to quickly inspect the learning rate schedule.'''\n",
        "        plt.plot(self.history['iterations'], self.history['lr'])\n",
        "        plt.yscale('log')\n",
        "        plt.xlabel('Iteration')\n",
        "        plt.ylabel('Learning rate')\n",
        "        \n",
        "    def plot_loss(self):\n",
        "        '''Helper function to quickly observe the learning rate experiment results.'''\n",
        "        plt.plot(self.history['lr'], self.history['loss'])\n",
        "        plt.xscale('log')\n",
        "        plt.xlabel('Learning rate')\n",
        "        plt.ylabel('Loss')"
      ],
      "execution_count": 0,
      "outputs": []
    },
    {
      "metadata": {
        "id": "CLocOTV6jbTr",
        "colab_type": "text"
      },
      "cell_type": "markdown",
      "source": [
        "# Model"
      ]
    },
    {
      "metadata": {
        "id": "_F8IRIa4_s0J",
        "colab_type": "code",
        "outputId": "c364cec0-cfc5-46a8-da7b-cee85bbd5b55",
        "colab": {
          "base_uri": "https://localhost:8080/",
          "height": 118
        }
      },
      "cell_type": "code",
      "source": [
        "BATCH_SIZE = 64\n",
        "np.random.seed(1)\n",
        "\n",
        "imageindices = np.arange(0,trainingImages.shape[0],1)\n",
        "# print(imageindices)\n",
        "# print(imageindices.shape)\n",
        "\n",
        "trainsetindices = np.random.choice(imageindices, int(trainingImages.shape[0]*0.7), replace = False)\n",
        "# print(trainsetindices)\n",
        "# print(trainsetindices.shape)\n",
        "\n",
        "testsetindices = np.delete(imageindices, trainsetindices, 0)\n",
        "# print(testsetindices)\n",
        "# print(testsetindices.shape)\n",
        "      \n",
        "train_X = trainingImages[trainsetindices]\n",
        "# print(trainset.shape)\n",
        "\n",
        "val_X =  trainingImages[testsetindices]\n",
        "# print(testset.shape)\n",
        "\n",
        "train_y = trainingLabels[trainsetindices]\n",
        "# print(trainlabels.shape)\n",
        "# print(trainlabels)\n",
        "print('train statistic')\n",
        "unique, counts = np.unique(train_y, return_counts=True)\n",
        "print (np.asarray((unique, counts)).T)\n",
        "\n",
        "val_y = trainingLabels[testsetindices]\n",
        "# print(testlabels)\n",
        "# print(testlabels.shape)\n",
        "print('test statistic')\n",
        "unique, counts = np.unique(val_y, return_counts=True)\n",
        "print (np.asarray((unique, counts)).T)\n",
        "\n",
        "# Initiate the train and test generators with data Augumentation \n",
        "train_datagen = ImageDataGenerator()\n",
        "#     rotation_range=40,\n",
        "# #     width_shift_range=0.2,\n",
        "# #     height_shift_range=0.2,\n",
        "#     shear_range=0.2,\n",
        "# #     zoom_range=0.2,\n",
        "#     horizontal_flip=True,\n",
        "#     fill_mode='nearest')\n",
        "\n",
        "test_datagen = ImageDataGenerator()\n",
        "#     rotation_range=40,\n",
        "# #     width_shift_range=0.2,\n",
        "# #     height_shift_range=0.2,\n",
        "#     shear_range=0.2,\n",
        "# #     zoom_range=0.2,\n",
        "#     horizontal_flip=True,\n",
        "#     fill_mode='nearest')\n",
        "\n",
        "train_generator = train_datagen.flow(train_X, y=train_y, batch_size=BATCH_SIZE, shuffle= True)\n",
        "\n",
        "validation_generator = test_datagen.flow(val_X, y=val_y, batch_size=BATCH_SIZE, shuffle= True)"
      ],
      "execution_count": 0,
      "outputs": [
        {
          "output_type": "stream",
          "text": [
            "train statistic\n",
            "[[   0 5445]\n",
            " [   1 1405]]\n",
            "test statistic\n",
            "[[   0 2312]\n",
            " [   1  624]]\n"
          ],
          "name": "stdout"
        }
      ]
    },
    {
      "metadata": {
        "id": "bS4bfTBi0Ewt",
        "colab_type": "code",
        "outputId": "ba45a62f-62e9-4608-f5bd-67fb325908c7",
        "colab": {
          "base_uri": "https://localhost:8080/",
          "height": 34
        }
      },
      "cell_type": "code",
      "source": [
        "img_width, img_height = PATCH_SIZE, PATCH_SIZE\n",
        "# train_data_dir = \"data/train\"\n",
        "# validation_data_dir = \"data/val\"\n",
        "# nb_train_samples = 4125\n",
        "# nb_validation_samples = 466 \n",
        "\n",
        "base_model = applications.VGG19(weights = \"imagenet\", include_top=False, input_shape = (PATCH_SIZE, PATCH_SIZE, 3))\n",
        "\n",
        "model = Model(inputs=base_model.input, outputs=base_model.get_layer('block5_pool').output)\n",
        "\n",
        "for layer in model.layers:\n",
        "    layer.trainable = True\n",
        "# kernel_regularizer=regularizers.l2(0.01)\n",
        "#Adding custom Layers \n",
        "x = model.output\n",
        "x = Flatten()(x)\n",
        "# x = Dense(22, activation=\"relu\")(x)\n",
        "x = Dense(20, activation=\"relu\")(x)\n",
        "x= BatchNormalization(axis=1)(x)\n",
        "# kernel_regularizer=regularizers.l2(0.0009)\n",
        "x = Dropout(0.5)(x)\n",
        "x = Dense(20, activation=\"relu\")(x)\n",
        "# x = Dense(22, activation=\"relu\")(x)\n",
        "x= BatchNormalization(axis=1)(x)\n",
        "predictions = Dense(1, activation=\"sigmoid\")(x)\n",
        "\n",
        "# creating the final model \n",
        "model_final = Model(input = model.input, output = predictions)\n",
        "\n",
        "# compile the model \n",
        "# model_final.compile(loss= \"binary_crossentropy\", optimizer = optimizers.SGD(lr=0.0001, momentum=0.9, nesterov=False),  metrics=[\"binary_accuracy\"])\n",
        "# model_final.summary()\n",
        "# optimizers.SGD(lr=0.001)"
      ],
      "execution_count": 0,
      "outputs": [
        {
          "output_type": "stream",
          "text": [
            "/usr/local/lib/python3.6/dist-packages/ipykernel_launcher.py:28: UserWarning: Update your `Model` call to the Keras 2 API: `Model(inputs=Tensor(\"in..., outputs=Tensor(\"de...)`\n"
          ],
          "name": "stderr"
        }
      ]
    },
    {
      "metadata": {
        "id": "OuGBQ2ToED3z",
        "colab_type": "code",
        "colab": {}
      },
      "cell_type": "code",
      "source": [
        "# lr_finder = LRFinder(min_lr=1e-6, max_lr=1e-2, steps_per_epoch=np.ceil(train_y.shape[0]/BATCH_SIZE), epochs=3)\n",
        "# model_final.fit(train_X, train_y, callbacks=[lr_finder])\n",
        "# lr_finder.plot_loss()"
      ],
      "execution_count": 0,
      "outputs": []
    },
    {
      "metadata": {
        "id": "P1imRVg54A5T",
        "colab_type": "code",
        "outputId": "92efafe4-e602-4cae-8698-b5f53f9f5f37",
        "colab": {
          "base_uri": "https://localhost:8080/",
          "height": 34
        }
      },
      "cell_type": "code",
      "source": [
        "!ls"
      ],
      "execution_count": 0,
      "outputs": [
        {
          "output_type": "stream",
          "text": [
            "sample_data  W0001  W0001.zip  W0002  W0002.zip  welds120_40  welds120_40.h5\n"
          ],
          "name": "stdout"
        }
      ]
    },
    {
      "metadata": {
        "id": "mzuyHTeHy9Iv",
        "colab_type": "code",
        "colab": {}
      },
      "cell_type": "code",
      "source": [
        "!rm welds120_40.h5"
      ],
      "execution_count": 0,
      "outputs": []
    },
    {
      "metadata": {
        "id": "1IbkK97NyklS",
        "colab_type": "code",
        "colab": {}
      },
      "cell_type": "code",
      "source": [
        "MODEL = \"welds120_40.h5\""
      ],
      "execution_count": 0,
      "outputs": []
    },
    {
      "metadata": {
        "id": "cpqBrXT8hM1a",
        "colab_type": "code",
        "colab": {}
      },
      "cell_type": "code",
      "source": [
        "LEARNING_RATE = 0.000001\n",
        "EPOCHS  = 30\n",
        "\n",
        "model_final.compile(loss=[focal_loss(alpha=.25, gamma=2)], optimizer = optimizers.SGD(lr=LEARNING_RATE, momentum=0.9, decay=LEARNING_RATE/EPOCHS, nesterov=False),  metrics=[\"binary_accuracy\"])\n",
        "\n",
        "# optimizer = 'Adam'\n",
        "# optimizers.SGD(lr=LEARNING_RATE, momentum=0.9, decay=LEARNING_RATE/EPOCHS, nesterov=False)\n",
        "\n",
        "\n",
        "if os.path.isfile(MODEL):\n",
        "  model_final.load_weights(MODEL)\n",
        "# Save the model according to the conditions  \n",
        "checkpoint = ModelCheckpoint(MODEL, monitor='val_binary_accuracy', verbose=1, save_best_only=True, save_weights_only=False, mode='auto', period=1)\n",
        "early = EarlyStopping(monitor='val_loss', min_delta=0, patience=10, verbose=1, mode='auto')\n",
        "\n",
        "# Train the model \n",
        "hist= model_final.fit_generator(\n",
        "train_generator,\n",
        "epochs = EPOCHS,\n",
        "validation_data = validation_generator,\n",
        "callbacks = [checkpoint, early],\n",
        "class_weight = {0:1, 1:4}\n",
        "# initial_epoch = 10\n",
        ")"
      ],
      "execution_count": 0,
      "outputs": []
    },
    {
      "metadata": {
        "id": "ttRSTqhwpoyj",
        "colab_type": "code",
        "colab": {}
      },
      "cell_type": "code",
      "source": [
        "!ls"
      ],
      "execution_count": 0,
      "outputs": []
    },
    {
      "metadata": {
        "id": "GP_yEOYO3AeY",
        "colab_type": "code",
        "colab": {}
      },
      "cell_type": "code",
      "source": [
        "!wget --header=\"Host: doc-0k-b0-docs.googleusercontent.com\" --header=\"User-Agent: Mozilla/5.0 (Windows NT 10.0; Win64; x64) AppleWebKit/537.36 (KHTML, like Gecko) Chrome/69.0.3497.100 Safari/537.36\" --header=\"Accept: text/html,application/xhtml+xml,application/xml;q=0.9,image/webp,image/apng,*/*;q=0.8\" --header=\"Accept-Language: en-US,en;q=0.9,zh;q=0.8\" --header=\"Cookie: AUTH_34ik7lun1us6dv6q9qfeb6e7d6bvc8u0=14209115304765239475|1539316800000|v9rk70kv70ngor098ha5475ifs26nq9d; _ga=GA1.2.960794485.1517510387; intercom-lou-th1oza37=1; NID=139=gsZKq2daCscqrMGFDIGKgTFR8dtbbgA9eoqoNa_a9rJUZKfv2gLNh40s43r1_T0niZlIS4BKm4gwDVhhyvkhSpZYqTY4byu7iVz7H-ujO8OpKTjpHrrljCa7K1Hr1mah\" --header=\"Connection: keep-alive\" \"https://doc-0k-b0-docs.googleusercontent.com/docs/securesc/gee158gbk32t0tapgnnn7cl2j3b37p4l/r0a5b7fuq9phvpfgk9j7r5lhro9ljt53/1539316800000/14209115304765239475/14209115304765239475/121unvjmvVOYMqWPfmgrqx2ibbdbbG6by?e=download\" -O \"vgg16_1.h5\" -c"
      ],
      "execution_count": 0,
      "outputs": []
    },
    {
      "metadata": {
        "id": "MByuod4ilRUj",
        "colab_type": "code",
        "colab": {}
      },
      "cell_type": "code",
      "source": [
        "plt.plot(hist.history['loss'])\n",
        "plt.plot(hist.history['val_loss'])\n",
        "plt.title('model loss')\n",
        "plt.ylabel('loss')\n",
        "plt.xlabel('epoch')\n",
        "plt.legend(['train', 'test'], loc='upper left')\n",
        "plt.show()"
      ],
      "execution_count": 0,
      "outputs": []
    },
    {
      "metadata": {
        "id": "DJr6dsVutUrY",
        "colab_type": "code",
        "colab": {}
      },
      "cell_type": "code",
      "source": [
        "trainingLabels.shape"
      ],
      "execution_count": 0,
      "outputs": []
    },
    {
      "metadata": {
        "id": "ZYOxwehPvCT8",
        "colab_type": "code",
        "colab": {}
      },
      "cell_type": "code",
      "source": [
        "fig = plt.figure(figsize=(30, 5))\n",
        "i = 125\n",
        "plt.imshow(trainingImages[i])\n",
        "model_final.load_weights(\"vgg16_1.h5\")\n",
        "prediction = model_final.predict(np.reshape(trainingImages[i], [1, trainingImages[i].shape[0], trainingImages[i].shape[1], trainingImages[i].shape[2]]))\n",
        "prediction\n",
        "text= 'Prediction:%f, Truth:%d'%(prediction, trainingLabels[i])\n",
        "plt.text(0, 0, text )"
      ],
      "execution_count": 0,
      "outputs": []
    },
    {
      "metadata": {
        "id": "Cl6GEH_IE45r",
        "colab_type": "code",
        "colab": {}
      },
      "cell_type": "code",
      "source": [
        "files.download('vgg16_1.h5')"
      ],
      "execution_count": 0,
      "outputs": []
    },
    {
      "metadata": {
        "id": "nSR3BSdu5ny7",
        "colab_type": "code",
        "outputId": "b8104dde-d07f-431d-d571-41372bf40043",
        "colab": {
          "base_uri": "https://localhost:8080/",
          "height": 34
        }
      },
      "cell_type": "code",
      "source": [
        "!ls"
      ],
      "execution_count": 0,
      "outputs": [
        {
          "output_type": "stream",
          "text": [
            "CurlWget1855  sample_data  welds180_60\twelds180_60Model.h5\n"
          ],
          "name": "stdout"
        }
      ]
    },
    {
      "metadata": {
        "id": "0juZn94gnyPa",
        "colab_type": "code",
        "colab": {}
      },
      "cell_type": "code",
      "source": [
        "import h5py as h5\n",
        "from keras.models import load_model\n",
        "model_final = load_model('vgg16_1.h5')"
      ],
      "execution_count": 0,
      "outputs": []
    },
    {
      "metadata": {
        "id": "pwkpQHwXjpSW",
        "colab_type": "text"
      },
      "cell_type": "markdown",
      "source": [
        "# Extracting Bayes Probability"
      ]
    },
    {
      "metadata": {
        "id": "JTYYSPUtZ1hl",
        "colab_type": "code",
        "outputId": "9a2a240e-ed95-4ca5-d6a9-e00e3f7d26c0",
        "colab": {
          "base_uri": "https://localhost:8080/",
          "height": 545
        }
      },
      "cell_type": "code",
      "source": [
        "positiveindices= np.where(val_y == 1)\n",
        "model_final.load_weights(MODEL)\n",
        "test_positive_predictions =  model_final.predict(val_X[positiveindices])\n",
        "\n",
        "positivedataframe =  pd.DataFrame(test_positive_predictions)\n",
        "positivedataframe.hist()\n",
        "arrange = np.arange(0,1,0.001)\n",
        "positiveax = positivedataframe.plot.kde(ind = arrange, legend=False)\n",
        "\n",
        "positiveline = positiveax.lines[0]\n",
        "positivexdata= positiveline.get_xdata()\n",
        "positiveydata= positiveline.get_ydata()\n",
        "\n",
        "def returnprob(xdata, ydata, num):\n",
        "  index_of_nearest = bisect_left(xdata, num)\n",
        "  if index_of_nearest == 1000:\n",
        "    index_of_nearest -=1 \n",
        "  result = ydata[index_of_nearest]\n",
        "  return result\n",
        "\n",
        "returnprob(positivexdata, positiveydata, 0.385)\n",
        "# positiveydata"
      ],
      "execution_count": 0,
      "outputs": [
        {
          "output_type": "execute_result",
          "data": {
            "text/plain": [
              "0.8624347153943686"
            ]
          },
          "metadata": {
            "tags": []
          },
          "execution_count": 25
        },
        {
          "output_type": "display_data",
          "data": {
            "image/png": "[encoded data removed]",
            "text/plain": [
              "<matplotlib.figure.Figure at 0x7f6e1d1a6be0>"
            ]
          },
          "metadata": {
            "tags": []
          }
        },
        {
          "output_type": "display_data",
          "data": {
            "image/png": "[encoded data removed]",
            "text/plain": [
              "<matplotlib.figure.Figure at 0x7f6ea3af85f8>"
            ]
          },
          "metadata": {
            "tags": []
          }
        }
      ]
    },
    {
      "metadata": {
        "id": "ou10K_S9P0eA",
        "colab_type": "code",
        "outputId": "f3821e9d-da51-4515-b1ef-32814432b1bd",
        "colab": {
          "base_uri": "https://localhost:8080/",
          "height": 545
        }
      },
      "cell_type": "code",
      "source": [
        "negativeindices= np.where(val_y == 0)\n",
        "model_final.load_weights(MODEL)\n",
        "test_negative_predictions =  model_final.predict(val_X[negativeindices])\n",
        "\n",
        "negativedataframe =  pd.DataFrame(test_negative_predictions)\n",
        "negativedataframe.hist()\n",
        "arrange = np.arange(0,1,0.001)\n",
        "negativeax = negativedataframe.plot.kde(ind= arrange, legend=False)\n",
        "\n",
        "negativeline = negativeax.lines[0]\n",
        "negativexdata= negativeline.get_xdata()\n",
        "negativeydata= negativeline.get_ydata()\n",
        "\n",
        "returnprob(negativexdata, negativeydata, 0.36)\n",
        "# negativeindices\n",
        "# negativexdata.shape\n",
        "# negativeydata.shape"
      ],
      "execution_count": 0,
      "outputs": [
        {
          "output_type": "execute_result",
          "data": {
            "text/plain": [
              "0.3218567225693338"
            ]
          },
          "metadata": {
            "tags": []
          },
          "execution_count": 26
        },
        {
          "output_type": "display_data",
          "data": {
            "image/png": "[encoded data removed]",
            "text/plain": [
              "<matplotlib.figure.Figure at 0x7f6e1d0a0be0>"
            ]
          },
          "metadata": {
            "tags": []
          }
        },
        {
          "output_type": "display_data",
          "data": {
            "image/png": "[encoded data removed]",
            "text/plain": [
              "<matplotlib.figure.Figure at 0x7f6e1af9fef0>"
            ]
          },
          "metadata": {
            "tags": []
          }
        }
      ]
    },
    {
      "metadata": {
        "id": "mVzTkxVk2Z-J",
        "colab_type": "code",
        "colab": {}
      },
      "cell_type": "code",
      "source": [
        "# # positiveydata[np.where(positiveydata == 0)] = 0.0000001\n",
        "# # negativeydata[np.where(negativeydata == 0)] = 0.0000001\n",
        "# hdata  = []\n",
        "# for i in (positivexdata):\n",
        "#   hdata += [log(returnprob(positivexdata, positiveydata, i)) - log(returnprob(negativexdata, negativeydata, i))]\n",
        "# #     log(returnprob(positivexdata, positiveydata, i)) - log(returnprob(negativexdata, negativeydata, i))\n",
        "\n",
        "# plt.plot(positivexdata, hdata)\n",
        "# plt.show()"
      ],
      "execution_count": 0,
      "outputs": []
    },
    {
      "metadata": {
        "id": "ePt-regc_Vyi",
        "colab_type": "code",
        "outputId": "2024e88b-13d6-4381-b30b-12e896bae6b4",
        "colab": {
          "base_uri": "https://localhost:8080/",
          "height": 50
        }
      },
      "cell_type": "code",
      "source": [
        "predictions =  model_final.predict(val_X)\n",
        "prediction_classes=[]\n",
        "for x in predictions:\n",
        "  if x> 0.5:\n",
        "    prediction_classes.append(1)\n",
        "  else:\n",
        "    prediction_classes.append(0)\n",
        "\n",
        "confusion_matrix(val_y, prediction_classes)"
      ],
      "execution_count": 0,
      "outputs": [
        {
          "output_type": "execute_result",
          "data": {
            "text/plain": [
              "array([[2301,   11],\n",
              "       [ 214,  410]])"
            ]
          },
          "metadata": {
            "tags": []
          },
          "execution_count": 27
        }
      ]
    },
    {
      "metadata": {
        "id": "Z99sFrCaS_6d",
        "colab_type": "code",
        "outputId": "bfc7376a-4463-4683-a968-ce47e1ec50cb",
        "colab": {
          "base_uri": "https://localhost:8080/",
          "height": 34
        }
      },
      "cell_type": "code",
      "source": [
        "import numpy as np\n",
        "from sklearn.metrics import roc_auc_score\n",
        "roc_auc_score(val_y, prediction_classes)"
      ],
      "execution_count": 0,
      "outputs": [
        {
          "output_type": "execute_result",
          "data": {
            "text/plain": [
              "0.8261467482920769"
            ]
          },
          "metadata": {
            "tags": []
          },
          "execution_count": 28
        }
      ]
    },
    {
      "metadata": {
        "id": "mzRGoframJaV",
        "colab_type": "code",
        "outputId": "659f318e-5bd8-47f6-d98f-01fd54b57524",
        "colab": {
          "base_uri": "https://localhost:8080/",
          "height": 34
        }
      },
      "cell_type": "code",
      "source": [
        "from sklearn.metrics import accuracy_score\n",
        "accuracy_score(val_y, prediction_classes)"
      ],
      "execution_count": 0,
      "outputs": [
        {
          "output_type": "execute_result",
          "data": {
            "text/plain": [
              "0.9233651226158038"
            ]
          },
          "metadata": {
            "tags": []
          },
          "execution_count": 29
        }
      ]
    },
    {
      "metadata": {
        "id": "79gAyAr2Rwuk",
        "colab_type": "text"
      },
      "cell_type": "markdown",
      "source": [
        "# Predicting"
      ]
    },
    {
      "metadata": {
        "id": "KWw9StIoURFR",
        "colab_type": "code",
        "colab": {}
      },
      "cell_type": "code",
      "source": [
        "from skimage import measure\n",
        "from skimage import filters\n",
        "import matplotlib.pyplot as plt\n",
        "\n",
        "from skimage import measure\n",
        "from skimage import filters\n",
        "import matplotlib.pyplot as plt\n",
        "import numpy as np\n",
        "\n",
        "import numpy as np\n",
        "import os\n",
        "import cv2\n",
        "from tqdm import tqdm\n",
        "import numpy as np # linear algebra\n",
        "import pandas as pd # data processing, CSV file I/O (e.g. pd.read_csv)\n",
        "from skimage.io import imread\n",
        "import matplotlib.pyplot as plt\n",
        "from skimage.segmentation import mark_boundaries\n",
        "from skimage.measure import label, regionprops\n",
        "from skimage.util.montage import montage2d as montage\n",
        "montage_rgb = lambda x: np.stack([montage(x[:, :, :, i]) for i in range(x.shape[3])], -1)\n",
        "ship_dir = '../input'\n",
        "train_image_dir = os.path.join(ship_dir, 'train')\n",
        "test_image_dir = os.path.join(ship_dir, 'test')\n",
        "\n",
        "from skimage.morphology import label\n",
        "def multi_rle_encode(img):\n",
        "    labels = label(img[:, :, 0])\n",
        "    return [rle_encode(labels==k) for k in np.unique(labels[labels>0])]\n",
        "\n",
        "# ref: https://www.kaggle.com/paulorzp/run-length-encode-and-decode\n",
        "def rle_encode(img):\n",
        "    '''\n",
        "    img: numpy array, 1 - mask, 0 - background\n",
        "    Returns run length as string formated\n",
        "    '''\n",
        "    pixels = img.T.flatten()\n",
        "    pixels = np.concatenate([[0], pixels, [0]])\n",
        "    runs = np.where(pixels[1:] != pixels[:-1])[0] + 1\n",
        "    runs[1::2] -= runs[::2]\n",
        "    return ' '.join(str(x) for x in runs)\n",
        "\n",
        "def rle_decode(mask_rle, shape=(768, 768)):\n",
        "    '''\n",
        "    mask_rle: run-length as string formated (start length)\n",
        "    shape: (height,width) of array to return \n",
        "    Returns numpy array, 1 - mask, 0 - background\n",
        "    '''\n",
        "    s = mask_rle.split()\n",
        "    starts, lengths = [np.asarray(x, dtype=int) for x in (s[0:][::2], s[1:][::2])]\n",
        "    starts -= 1\n",
        "    ends = starts + lengths\n",
        "    img = np.zeros(shape[0]*shape[1], dtype=np.uint8)\n",
        "    for lo, hi in zip(starts, ends):\n",
        "        img[lo:hi] = 1\n",
        "    return img.reshape(shape).T  # Needed to align to RLE direction\n",
        "\n",
        "\n",
        "def masks_as_image(in_mask_list, all_masks=None):\n",
        "    # Take the individual ship masks and create a single mask array for all ships\n",
        "    if all_masks is None:\n",
        "        all_masks = np.zeros((768, 768), dtype = np.int16)\n",
        "    #if isinstance(in_mask_list, list):\n",
        "    for mask in in_mask_list:\n",
        "        if isinstance(mask, str):\n",
        "            all_masks += rle_decode(mask)\n",
        "    return np.expand_dims(all_masks, -1)\n",
        "\n",
        "def fillEmpty(lsst):  \n",
        "  if len(lsst) == 0:\n",
        "    return [0.1]\n",
        "#   elif len(lsst) == 1:\n",
        "#     return lsst.extend(lsst)\n",
        "  else:\n",
        "    return lsst\n",
        "  \n",
        "def bayesfunction(lsst):  \n",
        "  a=0\n",
        "  for i in lsst:\n",
        "    a= a+ log(returnprob(positivexdata, positiveydata, i)) - log(returnprob(negativexdata, negativeydata, i))\n",
        "  return(a)\n",
        "\n",
        "def thresholdfunction(lsst, threshold):\n",
        "  if lsst >= threshold:\n",
        "    return 1\n",
        "  else:\n",
        "    return 0\n",
        "  \n",
        "def findPredictedBox():\n",
        "  fig, ax = plt.subplots(figsize = (24,10))\n",
        "#   img_0 = imread(TESTIMAGE)\n",
        "  img_0 = testImage.copy()\n",
        "  mask_0 = heatMap.values\n",
        "  lbl_0 = label(mask_0) \n",
        "  props = regionprops(lbl_0)\n",
        "  # print ('Image', testImage)\n",
        "  for prop in props:\n",
        "    if(abs(prop.bbox[0]-prop.bbox[2]) < 30 or abs(prop.bbox[0]-prop.bbox[2])<30):\n",
        "      props.remove(prop)\n",
        "  for prop in props:\n",
        "    print('Found bbox', prop.bbox)\n",
        "    cv2.rectangle(img_0, (prop.bbox[1], prop.bbox[0]), (prop.bbox[3], prop.bbox[2]), (255, 0, 0), 3)\n",
        "  ax.imshow(img_0, cmap= 'gray')\n",
        "  ax.grid(False)\n",
        "  plt.show()\n",
        "\n",
        "  background= np.zeros((testLabel.shape[0], testLabel.shape[1]))\n",
        "  pdarea = pd.DataFrame(background)\n",
        "\n",
        "  for prop in props:\n",
        "    pdarea.iloc[prop.bbox[0]:prop.bbox[2],prop.bbox[1]:prop.bbox[3]] = 1\n",
        "\n",
        "  return pdarea.values\n",
        "\n",
        "def findTruthBoxes(testLabel):\n",
        "  n = 12\n",
        "  l = 256\n",
        "  im = testLabel\n",
        "\n",
        "  im = filters.gaussian_filter(im, sigma= l / (5. * n))\n",
        "  blobs = im > 0.7 * im.mean()\n",
        "\n",
        "  all_labels = measure.label(blobs)\n",
        "  blobs_labels = measure.label(blobs, background=0)\n",
        "\n",
        "  b, count= np.unique(all_labels, return_counts=True)\n",
        "  org = np.argwhere(count<250)\n",
        "\n",
        "  delete= b[org]\n",
        "\n",
        "  for i in range(0,all_labels.shape[0]):\n",
        "    for j in range(0,all_labels.shape[1]):\n",
        "      if all_labels[i][j] in delete:\n",
        "        all_labels[i][j] = 0\n",
        "\n",
        "  fig, ax = plt.subplots(figsize = (24,10))\n",
        "#   img_0 = imread(TESTIMAGE)\n",
        "  img_0 = testImage.copy()\n",
        "  mask_0 = all_labels\n",
        "  lbl_0 = label(mask_0) \n",
        "  props = regionprops(lbl_0)\n",
        "  # print ('Image', testImage)\n",
        "  for prop in props:\n",
        "    print('Found bbox', prop.bbox)\n",
        "    cv2.rectangle(img_0, (prop.bbox[1], prop.bbox[0]), (prop.bbox[3], prop.bbox[2]), (255, 0, 0), 3)\n",
        "  ax.imshow(img_0, cmap='gray')\n",
        "  ax.grid(False)\n",
        "  plt.show()\n",
        "\n",
        "  background= np.zeros((testLabel.shape[0], testLabel.shape[1]))\n",
        "  pdback = pd.DataFrame(background)\n",
        "\n",
        "  for prop in props:\n",
        "    pdback.iloc[prop.bbox[0]:prop.bbox[2],prop.bbox[1]:prop.bbox[3]] = 1\n",
        "\n",
        "  return pdback.values"
      ],
      "execution_count": 0,
      "outputs": []
    },
    {
      "metadata": {
        "id": "vo2zLRIPJv88",
        "colab_type": "code",
        "colab": {}
      },
      "cell_type": "code",
      "source": [
        "TEST_PATCH_SIZE= 180\n",
        "TEST_STRIDE = 60\n",
        "\n",
        "TESTIMAGE = 'W0001/W0001_0005.png'\n",
        "TESTLABEL = 'W0002/W0002_0005.png'\n",
        "\n",
        "testImage = imread(TESTIMAGE)\n",
        "print(testImage.shape)\n",
        "\n",
        "testLabel = imread(TESTLABEL)\n",
        "\n",
        "test_pat, test_patclass, test_image_patches, test_label_patches = extractimages(testImage, testLabel, TEST_PATCH_SIZE, TEST_STRIDE)\n",
        "\n",
        "testImages= np.asarray(test_pat)\n",
        "testLabels = np.asarray(test_patclass)\n",
        "print(test_image_patches.shape)"
      ],
      "execution_count": 0,
      "outputs": []
    },
    {
      "metadata": {
        "id": "EqSvzpEjkC50",
        "colab_type": "code",
        "colab": {}
      },
      "cell_type": "code",
      "source": [
        "np.array(printTrainImages[0]).shape"
      ],
      "execution_count": 0,
      "outputs": []
    },
    {
      "metadata": {
        "id": "vCGxTi4dvem8",
        "colab_type": "code",
        "outputId": "7ae43348-47d4-4e20-ec40-23f8c1849aae",
        "colab": {
          "base_uri": "https://localhost:8080/",
          "height": 836
        }
      },
      "cell_type": "code",
      "source": [
        "MIOUlist =[]\n",
        "ACClist = []\n",
        "RecallPositive= []\n",
        "RecallNegative = []\n",
        "Precision = []\n",
        "\n",
        "# for i in range(200,300):\n",
        "# for i in [ 1,  2,  6,  7,  8,  9, 10, 12, 13, 17, 18, 20, 22, 27, 39, 47, 51, 52, 66, 67]:\n",
        "# for i in [52, 66]:\n",
        "# for i in [\"01\",\"02\",\"03\",\"04\",\"05\"]:\n",
        "for i in [\"01\"]:\n",
        "  print(i) \n",
        "  \n",
        "  ####NEU dataset###\n",
        "#   testImage = NEUimages[i]\n",
        "#   testLabel = NEUgroundtruths[i]\n",
        "\n",
        "#   testImage = imread('Railsurfaceimages/rail_' + str(i) + '.jpg')\n",
        "#   testLabel = imread('GroundTruth/rail_' + str(i) + '.jpg')\n",
        "  \n",
        "  testImage = imread('W0001/W0001_00' + i + '.png')\n",
        "  testLabel = imread('W0002/W0002_00' + i + '.png')\n",
        "\n",
        "  test_pat, test_patclass, test_image_patches, test_label_patches = extractimages(testImage, testLabel, PATCH_SIZE, STRIDE_SIZE)\n",
        "  \n",
        "#   TESTIMAGE = 'Railsurfaceimages/rail_'+str(i)+'.jpg'\n",
        "#   TESTLABEL = 'GroundTruth/rail_'+str(i) +'.jpg'\n",
        "  \n",
        "#   TESTIMAGE = 'W0001/W0001_00' + i + '.png'\n",
        "#   TESTLABEL = 'W0002/W0002_00' + i + '.png'\n",
        "\n",
        "#   print(len(test_pat))\n",
        "  testImages= np.asarray(test_pat)\n",
        "  testLabels = np.asarray(test_patclass)\n",
        "#   print(testImages.shape)\n",
        "  \n",
        "  predictions =  model_final.predict(testImages)\n",
        "# tensorshape = sess.run(image_patches).shape\n",
        "  predictions = np.reshape(predictions, (test_image_patches.shape[1], test_image_patches.shape[2]))\n",
        "#   print(predictions.shape)\n",
        "  \n",
        "  \n",
        "  ##### Storing probability in list, showing in dataframe######\n",
        "  dist = [[[] for j in range(testImage.shape[1])] for i in range(testImage.shape[0])]\n",
        "\n",
        "  for i in range(0, int(test_image_patches.shape[1])):\n",
        "    for j in range(0, int(test_image_patches.shape[2])):\n",
        "\n",
        "      starti=0 + i*STRIDE_SIZE\n",
        "      startj=0 + j*STRIDE_SIZE\n",
        "\n",
        "      for x in range(starti, starti+ PATCH_SIZE):\n",
        "  #       print(\"x:\"+ str(x))\n",
        "        for y in range(startj, startj+ PATCH_SIZE):\n",
        "  #         print(y)\n",
        "          dist[x][y].append(predictions[i][j])\n",
        "\n",
        "  probaTable = pd.DataFrame(dist)\n",
        "  # probaTable\n",
        "  \n",
        "#   print(\"reached probaTable\")\n",
        "  ##### fill empty list######\n",
        "  filledTable = probaTable.copy().applymap(fillEmpty)\n",
        "  ##### Bayes Fusion######\n",
        "  BayesTable = filledTable.applymap(bayesfunction)\n",
        "#   BayesTable.describe()\n",
        "\n",
        "  ##### Set Threshold######\n",
        "  THRESHOLD = BayesTable[0].quantile(0.5)\n",
        "  print(\"Threshold:\" + str(THRESHOLD))\n",
        "  \n",
        "  ##### Binarized######\n",
        "  heatMap =  BayesTable.applymap(lambda x: thresholdfunction(x, THRESHOLD))\n",
        "  \n",
        "  ##### find Truth Bounding Box Areas######\n",
        "  pdback = findTruthBoxes(testLabel)\n",
        "  \n",
        "  ##### find Predicted Bounding Box Areas######\n",
        "  pdarea= findPredictedBox()\n",
        "  \n",
        "  with tf.Session() as sess:\n",
        "    a, b= tf.metrics.mean_iou(tf.convert_to_tensor(pdback), tf.convert_to_tensor(pdarea), 2)\n",
        "  #   print(b)\n",
        "    sess.run(tf.local_variables_initializer())\n",
        "    confusionMatrix= np.asarray(sess.run([b]))\n",
        "    miou =sess.run([a])\n",
        "    print(confusionMatrix)\n",
        "#     print(miou)\n",
        "    MIOUlist +=[miou]\n",
        "\n",
        "    accuracy = (confusionMatrix[0,0,0] + confusionMatrix[0,1,1])/ (confusionMatrix[0,0,0] + confusionMatrix[0,0,1]  + confusionMatrix[0,1,0]  + confusionMatrix[0,1,1])\n",
        "    ACClist +=[accuracy]\n",
        "    \n",
        "    recallPos = (confusionMatrix[0,1,1])/ (confusionMatrix[0,1,0]  + confusionMatrix[0,1,1])\n",
        "    RecallPositive +=[recallPos]\n",
        "    \n",
        "    recallNeg = (confusionMatrix[0,0,0])/ (confusionMatrix[0,0,0]  + confusionMatrix[0,0,1])\n",
        "    RecallNegative +=[recallNeg]\n",
        "    \n",
        "    precision = (confusionMatrix[0,1,1])/ (confusionMatrix[0,1,1]  + confusionMatrix[0,0,1])\n",
        "    Precision +=[precision]\n",
        "    print(confusionMatrix[0,0,1])"
      ],
      "execution_count": 0,
      "outputs": [
        {
          "output_type": "stream",
          "text": [
            "01\n",
            "Threshold:349.14155509878043\n"
          ],
          "name": "stdout"
        },
        {
          "output_type": "stream",
          "text": [
            "/usr/local/lib/python3.6/dist-packages/skimage/filters/_gaussian.py:22: skimage_deprecation: Function ``gaussian_filter`` is deprecated. Use ``skimage.filters.gaussian`` instead.\n",
            "  multichannel=None, preserve_range=False, truncate=4.0):\n"
          ],
          "name": "stderr"
        },
        {
          "output_type": "stream",
          "text": [
            "Found bbox (52, 1018, 322, 3509)\n",
            "Found bbox (113, 2, 257, 108)\n",
            "Found bbox (123, 247, 163, 292)\n",
            "Found bbox (140, 967, 159, 986)\n",
            "Found bbox (140, 1027, 168, 1062)\n",
            "Found bbox (141, 809, 162, 830)\n",
            "Found bbox (153, 250, 225, 332)\n",
            "Found bbox (154, 538, 256, 1014)\n",
            "Found bbox (190, 154, 212, 176)\n",
            "Found bbox (194, 114, 228, 147)\n",
            "Found bbox (214, 90, 236, 111)\n",
            "Found bbox (216, 1938, 239, 1962)\n",
            "Found bbox (219, 2091, 263, 2132)\n",
            "Found bbox (228, 1988, 251, 2025)\n",
            "Found bbox (237, 2518, 264, 2543)\n",
            "Found bbox (240, 1064, 268, 1085)\n",
            "Found bbox (275, 2038, 308, 2079)\n",
            "Found bbox (276, 3473, 314, 3509)\n"
          ],
          "name": "stdout"
        },
        {
          "output_type": "display_data",
          "data": {
            "image/png": "[encoded data removed]",
            "text/plain": [
              "<matplotlib.figure.Figure at 0x7f6e1d3c42e8>"
            ]
          },
          "metadata": {
            "tags": []
          }
        },
        {
          "output_type": "stream",
          "text": [
            "Found bbox (40, 920, 360, 3480)\n",
            "Found bbox (80, 0, 320, 400)\n",
            "Found bbox (120, 520, 280, 880)\n"
          ],
          "name": "stdout"
        },
        {
          "output_type": "display_data",
          "data": {
            "image/png": "[encoded data removed]",
            "text/plain": [
              "<matplotlib.figure.Figure at 0x7f6e1d0043c8>"
            ]
          },
          "metadata": {
            "tags": []
          }
        },
        {
          "output_type": "stream",
          "text": [
            "[[[300682. 238829.]\n",
            "  [ 11910. 733971.]]]\n",
            "238829.0\n"
          ],
          "name": "stdout"
        }
      ]
    },
    {
      "metadata": {
        "id": "PK--b7KfbVQC",
        "colab_type": "code",
        "outputId": "e5e80238-d6c8-4bac-f415-22e1209a16b1",
        "colab": {
          "base_uri": "https://localhost:8080/",
          "height": 50
        }
      },
      "cell_type": "code",
      "source": [
        "print(MIOUlist)\n",
        "np.mean(MIOUlist)"
      ],
      "execution_count": 0,
      "outputs": [
        {
          "output_type": "stream",
          "text": [
            "[[0.76616156]]\n"
          ],
          "name": "stdout"
        },
        {
          "output_type": "execute_result",
          "data": {
            "text/plain": [
              "0.76616156"
            ]
          },
          "metadata": {
            "tags": []
          },
          "execution_count": 32
        }
      ]
    },
    {
      "metadata": {
        "id": "kMdZD9oPnXte",
        "colab_type": "code",
        "outputId": "316f8306-9dce-4e8b-9e43-3ae9a341546f",
        "colab": {
          "base_uri": "https://localhost:8080/",
          "height": 50
        }
      },
      "cell_type": "code",
      "source": [
        "print(RecallPositive)\n",
        "np.mean(RecallPositive)"
      ],
      "execution_count": 0,
      "outputs": [
        {
          "output_type": "stream",
          "text": [
            "[0.8495644747620599]\n"
          ],
          "name": "stdout"
        },
        {
          "output_type": "execute_result",
          "data": {
            "text/plain": [
              "0.8495644747620599"
            ]
          },
          "metadata": {
            "tags": []
          },
          "execution_count": 33
        }
      ]
    },
    {
      "metadata": {
        "id": "Jscc69K2ng8B",
        "colab_type": "code",
        "outputId": "02334d03-fa9b-4780-c65c-b4c58204b130",
        "colab": {
          "base_uri": "https://localhost:8080/",
          "height": 50
        }
      },
      "cell_type": "code",
      "source": [
        "print(RecallNegative)\n",
        "np.mean(RecallNegative)"
      ],
      "execution_count": 0,
      "outputs": [
        {
          "output_type": "stream",
          "text": [
            "[0.8963394629581232]\n"
          ],
          "name": "stdout"
        },
        {
          "output_type": "execute_result",
          "data": {
            "text/plain": [
              "0.8963394629581232"
            ]
          },
          "metadata": {
            "tags": []
          },
          "execution_count": 34
        }
      ]
    },
    {
      "metadata": {
        "id": "U3JgIy64PEZF",
        "colab_type": "code",
        "outputId": "9afc37a6-df4a-49c7-8466-616a60fa49f4",
        "colab": {
          "base_uri": "https://localhost:8080/",
          "height": 50
        }
      },
      "cell_type": "code",
      "source": [
        "print(Precision)\n",
        "np.mean(Precision)"
      ],
      "execution_count": 0,
      "outputs": [
        {
          "output_type": "stream",
          "text": [
            "[0.9189008120649652]\n"
          ],
          "name": "stdout"
        },
        {
          "output_type": "execute_result",
          "data": {
            "text/plain": [
              "0.9189008120649652"
            ]
          },
          "metadata": {
            "tags": []
          },
          "execution_count": 35
        }
      ]
    },
    {
      "metadata": {
        "id": "bl0xmw3xb28z",
        "colab_type": "code",
        "outputId": "11463070-6964-40df-db1b-584af8c3e492",
        "colab": {
          "base_uri": "https://localhost:8080/",
          "height": 50
        }
      },
      "cell_type": "code",
      "source": [
        "print(ACClist)\n",
        "np.mean(ACClist)"
      ],
      "execution_count": 0,
      "outputs": [
        {
          "output_type": "stream",
          "text": [
            "[0.8691971009621967]\n"
          ],
          "name": "stdout"
        },
        {
          "output_type": "execute_result",
          "data": {
            "text/plain": [
              "0.8691971009621967"
            ]
          },
          "metadata": {
            "tags": []
          },
          "execution_count": 36
        }
      ]
    },
    {
      "metadata": {
        "id": "tms9YDNDrDD0",
        "colab_type": "code",
        "colab": {}
      },
      "cell_type": "code",
      "source": [
        "print(\"printtillhere -leftfor badminton\")"
      ],
      "execution_count": 0,
      "outputs": []
    },
    {
      "metadata": {
        "id": "wle4ClLgZ00X",
        "colab_type": "code",
        "colab": {}
      },
      "cell_type": "code",
      "source": [
        "probaTable.head()"
      ],
      "execution_count": 0,
      "outputs": []
    },
    {
      "metadata": {
        "id": "xWYcYc-Jf3eG",
        "colab_type": "code",
        "colab": {}
      },
      "cell_type": "code",
      "source": [
        "filledTable.head()"
      ],
      "execution_count": 0,
      "outputs": []
    },
    {
      "metadata": {
        "id": "z4p6pxHWEq6N",
        "colab_type": "code",
        "colab": {}
      },
      "cell_type": "code",
      "source": [
        "returnprob(positivexdata, positiveydata, 0.3)\n",
        "returnprob(negativexdata, negativeydata, 0.3)"
      ],
      "execution_count": 0,
      "outputs": []
    },
    {
      "metadata": {
        "id": "3pVEIP2Vbid3",
        "colab_type": "code",
        "colab": {}
      },
      "cell_type": "code",
      "source": [
        "img_0 = imread(TESTIMAGE)\n",
        "print(testImage.shape)\n",
        "\n",
        "fig, ax = plt.subplots(figsize = (24,10))\n",
        "\n",
        "for iidx, i in enumerate(range(0, testImage.shape[0]-PATCH_SIZE, STRIDE_SIZE)):\n",
        "#   print(i)\n",
        "  for jidx, j in enumerate(range(0, testImage.shape[1]-PATCH_SIZE, STRIDE_SIZE)) :\n",
        "#     print(jidx)\n",
        "    if(predictions[iidx][jidx] > 0.5):\n",
        "      cv2.rectangle(img_0, (j, i), (j+PATCH_SIZE, i+PATCH_SIZE), (255, 0, 0), 3)\n",
        "\n",
        "ax.imshow(img_0, cmap = 'gray')\n",
        "ax.grid(False)"
      ],
      "execution_count": 0,
      "outputs": []
    },
    {
      "metadata": {
        "id": "L7ls5FhiX1Jv",
        "colab_type": "code",
        "colab": {}
      },
      "cell_type": "code",
      "source": [
        "fig, ax = plt.subplots(figsize=(24, 10))\n",
        "ax.imshow(heatMap.values, interpolation='nearest')\n",
        "ax.grid(False)\n",
        "plt.tight_layout()"
      ],
      "execution_count": 0,
      "outputs": []
    },
    {
      "metadata": {
        "id": "gDHoW6SaM1bD",
        "colab_type": "code",
        "colab": {}
      },
      "cell_type": "code",
      "source": [
        "fig, ax = plt.subplots(figsize=(20, 10))\n",
        "ax.imshow(testLabel, interpolation='nearest')\n",
        "plt.tight_layout()"
      ],
      "execution_count": 0,
      "outputs": []
    },
    {
      "metadata": {
        "id": "Pwf2e9dgyWnY",
        "colab_type": "code",
        "colab": {}
      },
      "cell_type": "code",
      "source": [
        "fig, ax = plt.subplots(figsize=(20, 10))\n",
        "ax.imshow(testImage, interpolation='nearest')\n",
        "plt.tight_layout()"
      ],
      "execution_count": 0,
      "outputs": []
    },
    {
      "metadata": {
        "id": "hZhKvpQd_XUk",
        "colab_type": "code",
        "colab": {}
      },
      "cell_type": "code",
      "source": [
        "plt.figure(figsize=(24,10))\n",
        "plt.imshow(pdarea)\n",
        "plt.grid(False)"
      ],
      "execution_count": 0,
      "outputs": []
    },
    {
      "metadata": {
        "id": "PEuC2tKh6fX7",
        "colab_type": "code",
        "colab": {}
      },
      "cell_type": "code",
      "source": [
        "def findPredictedBox():\n",
        "  fig, ax = plt.subplots(figsize = (24,10))\n",
        "  img_0 = imread(TESTIMAGE)\n",
        "  mask_0 = heatMap.values\n",
        "  lbl_0 = label(mask_0) \n",
        "  props = regionprops(lbl_0)\n",
        "  # print ('Image', testImage)\n",
        "  for prop in props:\n",
        "    if(abs(prop.bbox[0]-prop.bbox[2]) < 30 or abs(prop.bbox[0]-prop.bbox[2])<30):\n",
        "      props.remove(prop)\n",
        "  for prop in props:\n",
        "    print('Found bbox', prop.bbox)\n",
        "    cv2.rectangle(img_0, (prop.bbox[1], prop.bbox[0]), (prop.bbox[3], prop.bbox[2]), (255, 0, 0), 3)\n",
        "  ax.imshow(img_0, cmap= 'gray')\n",
        "  ax.grid(False)\n",
        "  plt.show()\n",
        "\n",
        "  background= np.zeros((testLabel.shape[0], testLabel.shape[1]))\n",
        "  pdarea = pd.DataFrame(background)\n",
        "\n",
        "  for prop in props:\n",
        "    pdarea.iloc[prop.bbox[0]:prop.bbox[2],prop.bbox[1]:prop.bbox[3]] = 1\n",
        "\n",
        "  return pdarea.values"
      ],
      "execution_count": 0,
      "outputs": []
    },
    {
      "metadata": {
        "id": "Rf4_35DwyGCo",
        "colab_type": "code",
        "colab": {}
      },
      "cell_type": "code",
      "source": [
        "fig, ax = plt.subplots(figsize = (24,10))\n",
        "\n",
        "img_0 = imread(TESTLABEL)\n",
        "mask_0 = testLabel\n",
        "lbl_0 = label(mask_0) \n",
        "props = regionprops(lbl_0)\n",
        "# print ('Image', testImage)\n",
        "for prop in props:\n",
        "  print('Found bbox', prop.bbox)\n",
        "  cv2.rectangle(img_0, (prop.bbox[1], prop.bbox[0]), (prop.bbox[3], prop.bbox[2]), (255, 0, 0), 3)\n",
        "ax.imshow(img_0)\n",
        "ax.grid(False)\n",
        "# ax.imshow(img_1)\n",
        "#     ax1.set_title('Image')\n",
        "#     ax2.set_title('Mask')\n",
        "#     ax3.set_title('Image with derived bounding box')\n",
        "#     ax2.imshow(mask_0[...,0], cmap='gray')\n",
        "#     ax3.imshow(img_1)\n",
        "plt.show()"
      ],
      "execution_count": 0,
      "outputs": []
    },
    {
      "metadata": {
        "id": "HnRjqPKA75ss",
        "colab_type": "code",
        "colab": {}
      },
      "cell_type": "code",
      "source": [
        "from skimage import measure\n",
        "from skimage import filters\n",
        "import matplotlib.pyplot as plt\n",
        "import numpy as np\n",
        "\n",
        "def findTruthBoxes(testLabel):\n",
        "  n = 12\n",
        "  l = 256\n",
        "  im = testLabel\n",
        "\n",
        "  im = filters.gaussian_filter(im, sigma= l / (5. * n))\n",
        "  blobs = im > 0.7 * im.mean()\n",
        "\n",
        "  all_labels = measure.label(blobs)\n",
        "  blobs_labels = measure.label(blobs, background=0)\n",
        "\n",
        "  b, count= np.unique(all_labels, return_counts=True)\n",
        "  org = np.argwhere(count<250)\n",
        "\n",
        "  delete= b[org]\n",
        "\n",
        "  for i in range(0,all_labels.shape[0]):\n",
        "    for j in range(0,all_labels.shape[1]):\n",
        "      if all_labels[i][j] in delete:\n",
        "        all_labels[i][j] = 0\n",
        "\n",
        "  fig, ax = plt.subplots(figsize = (24,10))\n",
        "  img_0 = imread(TESTIMAGE)\n",
        "  mask_0 = all_labels\n",
        "  lbl_0 = label(mask_0) \n",
        "  props = regionprops(lbl_0)\n",
        "  # print ('Image', testImage)\n",
        "  for prop in props:\n",
        "    print('Found bbox', prop.bbox)\n",
        "    cv2.rectangle(img_0, (prop.bbox[1], prop.bbox[0]), (prop.bbox[3], prop.bbox[2]), (255, 0, 0), 3)\n",
        "  ax.imshow(img_0, cmap='gray')\n",
        "  ax.grid(False)\n",
        "  plt.show()\n",
        "\n",
        "  background= np.zeros((testLabel.shape[0], testLabel.shape[1]))\n",
        "  pdback = pd.DataFrame(background)\n",
        "\n",
        "  for prop in props:\n",
        "    pdback.iloc[prop.bbox[0]:prop.bbox[2],prop.bbox[1]:prop.bbox[3]] = 1\n",
        "\n",
        "  return pdback.values"
      ],
      "execution_count": 0,
      "outputs": []
    },
    {
      "metadata": {
        "id": "XTQM9Q4OA2jX",
        "colab_type": "code",
        "colab": {}
      },
      "cell_type": "code",
      "source": [
        "background= np.zeros((testLabel.shape[0], testLabel.shape[1]))\n",
        "background.shape\n",
        "pdback = pd.DataFrame(background)\n",
        "\n",
        "for prop in props:\n",
        "  pdback.iloc[prop.bbox[0]:prop.bbox[2],prop.bbox[1]:prop.bbox[3]] = 1\n",
        "#   print('Found bbox', prop.bbox)\n",
        "\n",
        "\n",
        "# print(props[0].bbox)\n",
        "# pdback.iloc[props[0].bbox[0]:props[0].bbox[2],props[0].bbox[1]:props[0].bbox[3]] = 1\n",
        "\n",
        "plt.figure(figsize=(24,10))\n",
        "plt.imshow(pdback.values)\n",
        "plt.grid(False)"
      ],
      "execution_count": 0,
      "outputs": []
    },
    {
      "metadata": {
        "id": "XBRYhRR5E65y",
        "colab_type": "code",
        "colab": {}
      },
      "cell_type": "code",
      "source": [
        "with tf.Session() as sess:\n",
        "  a, b= tf.metrics.mean_iou(tf.convert_to_tensor(pdback), tf.convert_to_tensor(heatMap.values), 2)\n",
        "#   print(b)\n",
        "  sess.run(tf.local_variables_initializer())\n",
        "  confusionMatrix= np.asarray(sess.run([b]))\n",
        "  miou =sess.run([a])\n",
        "  print(confusionMatrix)\n",
        "  print(miou)\n",
        "  accuracy = (confusionMatrix[0,0,0] + confusionMatrix[0,1,1])/ (confusionMatrix[0,0,0] + confusionMatrix[0,0,1]  + confusionMatrix[0,1,0]  + confusionMatrix[0,1,1])\n",
        "  print(accuracy)"
      ],
      "execution_count": 0,
      "outputs": []
    }
  ]
}